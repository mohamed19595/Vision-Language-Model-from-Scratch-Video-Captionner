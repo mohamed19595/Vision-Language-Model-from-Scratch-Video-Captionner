{
  "cells": [
    {
      "cell_type": "markdown",
      "metadata": {
        "id": "UVqzmk8wxCMH"
      },
      "source": [
        "## Importing modules"
      ]
    },
    {
      "cell_type": "code",
      "execution_count": null,
      "metadata": {
        "colab": {
          "base_uri": "https://localhost:8080/"
        },
        "id": "ftKW7_htw8MS",
        "outputId": "d9fc3d2c-f715-4159-8f76-1dc6f98144e0"
      },
      "outputs": [
        {
          "name": "stdout",
          "output_type": "stream",
          "text": [
            "Mounted at /content/drive\n"
          ]
        }
      ],
      "source": [
        "import os\n",
        "os.environ['CUDA_LAUNCH_BLOCKING'] = '1'\n",
        "import torch\n",
        "import torch.nn as nn\n",
        "from torch.nn.utils.rnn import pad_sequence\n",
        "from torch.nn import functional as F\n",
        "\n",
        "from tqdm import tqdm\n",
        "\n",
        "#import image_embedding\n",
        "from google.colab import drive\n",
        "drive.mount('/content/drive')\n",
        "\n"
      ]
    },
    {
      "cell_type": "code",
      "execution_count": null,
      "metadata": {
        "colab": {
          "base_uri": "https://localhost:8080/"
        },
        "id": "cfDpTO_XLLw2",
        "outputId": "f2b20b44-fec5-4813-b136-879680bba239"
      },
      "outputs": [
        {
          "name": "stdout",
          "output_type": "stream",
          "text": [
            "tensor([[0, 1, 2, 3, 4],\n",
            "        [0, 1, 2, 3, 4],\n",
            "        [0, 1, 2, 3, 4],\n",
            "        [0, 1, 2, 3, 4]])\n",
            "tensor([[  1,   2,   3,   4, 112],\n",
            "        [  1,   2,   3,   4, 112],\n",
            "        [  1,   2,   3,   4, 112],\n",
            "        [  1,   2,   3,   4, 112]])\n"
          ]
        }
      ],
      "source": [
        "targets=torch.tensor([[0,1,2,3,4],[0,1,2,3,4],[0,1,2,3,4],[0,1,2,3,4]])\n",
        "B,T= targets.shape\n",
        "shifted_tensor = torch.full((B, T), 112, dtype=targets.dtype)\n",
        "shifted_tensor[:, :-1] = targets[:, 1:]\n",
        "print(targets)\n",
        "print(shifted_tensor)"
      ]
    },
    {
      "cell_type": "markdown",
      "source": [
        "# Hyper-parameters"
      ],
      "metadata": {
        "id": "vhv5-rEK9oCX"
      }
    },
    {
      "cell_type": "code",
      "execution_count": null,
      "metadata": {
        "colab": {
          "base_uri": "https://localhost:8080/"
        },
        "id": "daWlbEK41meN",
        "outputId": "ded2c25e-6031-4bed-9e8b-e49e7731893f"
      },
      "outputs": [
        {
          "name": "stdout",
          "output_type": "stream",
          "text": [
            "CUDA available: True\n",
            "Device being used: cuda\n"
          ]
        }
      ],
      "source": [
        "batch_size = 128 # how many independent sequences will we process in parallel?\n",
        "\n",
        "max_iters = 5\n",
        "eval_interval = 50\n",
        "learning_rate = 1e-3\n",
        "device = 'cuda' if torch.cuda.is_available() else 'cpu'\n",
        "eval_iters = 10\n",
        "\n",
        "n_embd_encoder = 144\n",
        "n_embd_decoder = 288\n",
        "\n",
        "\n",
        "n_head_encoder = 8\n",
        "n_head_decoder = 16\n",
        "\n",
        "n_layer_decoder = 6\n",
        "n_layer_encoder = 1\n",
        "\n",
        "dropout = 0.3\n",
        "#---------------\n",
        "alpha=0.4\n",
        "# ------------\n",
        "resNet_embed=512\n",
        "Bert_n_embd=768\n",
        "query_embd=Bert_n_embd\n",
        "vocab_size_Bert=30522\n",
        "#---------------\n",
        "if torch.cuda.is_available():\n",
        "    torch.cuda.manual_seed_all(1337)\n",
        "print(\"CUDA available:\", torch.cuda.is_available())\n",
        "print(\"Device being used:\", device)"
      ]
    },
    {
      "cell_type": "markdown",
      "metadata": {
        "id": "6EGN6pHt6gLW"
      },
      "source": [
        "Reading **annotations**"
      ]
    },
    {
      "cell_type": "code",
      "execution_count": null,
      "metadata": {
        "colab": {
          "base_uri": "https://localhost:8080/"
        },
        "id": "jI1RB5zzdyOB",
        "outputId": "d6236755-7f20-4f02-d5ac-4c4d1dc2e4e6"
      },
      "outputs": [
        {
          "name": "stdout",
          "output_type": "stream",
          "text": [
            "['a man is glaring, and someone with sunglasses appears.', 'a cat tries to catch a mouse on a tablet', 'a man dressed in red is dancing.', 'an animal comes close to another in the jungle', 'a man in a hat adjusts his tie and makes a weird face.']\n"
          ]
        }
      ],
      "source": [
        "# Open the TSV file\n",
        "x=[]\n",
        "y=[]\n",
        "with open('/content/drive/My Drive/video_captionning/tgif-v1.0.tsv', 'r') as file:\n",
        "    # Read all lines\n",
        "    lines = file.readlines()\n",
        "\n",
        "    # Iterate through the lines\n",
        "    for line in lines:\n",
        "        # Split each line by the tab character\n",
        "        columns = line.strip().split('\\t')\n",
        "        x.append(columns[0])\n",
        "        y.append(columns[1])\n",
        "print(y[:5])"
      ]
    },
    {
      "cell_type": "markdown",
      "source": [
        "### A gif example"
      ],
      "metadata": {
        "id": "BbjUn5d6996V"
      }
    },
    {
      "cell_type": "code",
      "execution_count": null,
      "metadata": {
        "colab": {
          "base_uri": "https://localhost:8080/"
        },
        "id": "WPVy8vB-6L7H",
        "outputId": "7db141dc-8f29-4650-8794-e2b218f6c7a5"
      },
      "outputs": [
        {
          "name": "stdout",
          "output_type": "stream",
          "text": [
            "https://38.media.tumblr.com/95a43150244b2b959bd419061b15321b/tumblr_np56xtbeg91u7lo0fo1_400.gif\n"
          ]
        }
      ],
      "source": [
        "print(x[436])"
      ]
    },
    {
      "cell_type": "markdown",
      "source": [
        "## extracting frames from gifs"
      ],
      "metadata": {
        "id": "5ULlPr3h-aIK"
      }
    },
    {
      "cell_type": "code",
      "execution_count": null,
      "metadata": {
        "id": "_In8W9w-qWWX"
      },
      "outputs": [],
      "source": [
        "import requests\n",
        "from PIL import Image\n",
        "from io import BytesIO\n",
        "\n",
        "\n",
        "def get_gif_frames(gif_url):\n",
        "    #Download the GIF\n",
        "    response = requests.get(gif_url)\n",
        "    gif_data = BytesIO(response.content)\n",
        "\n",
        "    # Open the GIF and extract frames\n",
        "    with Image.open(gif_data) as gif:\n",
        "        frames = []\n",
        "        try:\n",
        "            while True:\n",
        "                # Save each frame to the frames list\n",
        "                frames.append(gif.copy())\n",
        "                gif.seek(gif.tell() + 1)\n",
        "        except EOFError:\n",
        "            pass\n",
        "    return frames\n",
        "# URL of the GIF\n",
        "gif_url = x[2000]\n",
        "frames=get_gif_frames(gif_url)\n"
      ]
    },
    {
      "cell_type": "markdown",
      "source": [
        "## Pre-Processing the frames"
      ],
      "metadata": {
        "id": "0C2zMp8f-gbq"
      }
    },
    {
      "cell_type": "code",
      "execution_count": null,
      "metadata": {
        "id": "CGoU_Tp3srvv"
      },
      "outputs": [],
      "source": [
        "from torchvision import transforms\n",
        "preprocess = transforms.Compose([\n",
        "    transforms.Resize((256, 256)),\n",
        "    transforms.CenterCrop(224),\n",
        "    transforms.ToTensor(),\n",
        "    transforms.Normalize(mean=[0.485, 0.456, 0.406], std=[0.229, 0.224, 0.225]),\n",
        "])\n",
        "#input_tensor = preprocess(frames[16].convert('RGB'))\n",
        "#input_batch = input_tensor.unsqueeze(0).to(device)"
      ]
    },
    {
      "cell_type": "markdown",
      "source": [
        "### Testing the pre-process"
      ],
      "metadata": {
        "id": "h3UhrKKr_PWy"
      }
    },
    {
      "cell_type": "code",
      "execution_count": null,
      "metadata": {
        "colab": {
          "base_uri": "https://localhost:8080/",
          "height": 775
        },
        "id": "8UQcyNJyqhQ7",
        "outputId": "0af296e3-e60d-42dd-a88f-7d783df39f7a"
      },
      "outputs": [
        {
          "name": "stderr",
          "output_type": "stream",
          "text": [
            "WARNING:matplotlib.image:Clipping input data to the valid range for imshow with RGB data ([0..1] for floats or [0..255] for integers).\n"
          ]
        },
        {
          "name": "stdout",
          "output_type": "stream",
          "text": [
            "60\n"
          ]
        },
        {
          "data": {
            "image/png": "[encoded data removed]",
            "text/plain": [
              "<Figure size 640x480 with 1 Axes>"
            ]
          },
          "metadata": {},
          "output_type": "display_data"
        },
        {
          "data": {
            "image/png": "[encoded data removed]",
            "text/plain": [
              "<Figure size 640x480 with 1 Axes>"
            ]
          },
          "metadata": {},
          "output_type": "display_data"
        }
      ],
      "source": [
        "import matplotlib.pyplot as plt\n",
        "print(len(frames))\n",
        "input_tensor = preprocess(frames[16].convert('RGB'))\n",
        "plt.figure()\n",
        "plt.imshow(input_tensor.permute(1, 2, 0))\n",
        "\n",
        "plt.axis('off')  # better visualization\n",
        "plt.show()\n",
        "plt.figure()\n",
        "plt.imshow(frames[16])\n",
        "plt.show()"
      ]
    },
    {
      "cell_type": "markdown",
      "source": [
        "## Extracting Frame feautures with ResNet18 Backbone"
      ],
      "metadata": {
        "id": "UGjSXi5R_U8r"
      }
    },
    {
      "cell_type": "code",
      "execution_count": null,
      "metadata": {
        "colab": {
          "base_uri": "https://localhost:8080/"
        },
        "id": "G_vploD8zVYx",
        "outputId": "0d067092-efdd-4b84-8795-b630cd569aca"
      },
      "outputs": [
        {
          "name": "stderr",
          "output_type": "stream",
          "text": [
            "Downloading: \"https://download.pytorch.org/models/resnet18-f37072fd.pth\" to /root/.cache/torch/hub/checkpoints/resnet18-f37072fd.pth\n",
            "100%|██████████| 44.7M/44.7M [00:00<00:00, 69.3MB/s]\n"
          ]
        }
      ],
      "source": [
        "import torchvision.models as models\n",
        "cnn = models.resnet18(weights='IMAGENET1K_V1').to(device).eval()\n",
        "\n",
        "cnn.requires_grad_(False) # freezing the backbone\n",
        "cnn = nn.Sequential(*list(cnn.children())[:-1]) # removing the last layer\n",
        "\n",
        "\n",
        "\n",
        "#cnn.classifier = nn.Sequential(*[cnn.classifier[i] for i in range(4)])\n",
        "#cnn.fc = nn.Linear(cnn.fc.in_features, 576).to(device)"
      ]
    },
    {
      "cell_type": "code",
      "execution_count": null,
      "metadata": {
        "id": "nMwrSxJn1wVD"
      },
      "outputs": [],
      "source": [
        "# check which parameters are trainable\n",
        "for param in cnn.parameters():\n",
        "    if param.requires_grad:\n",
        "        print(f\"Trainable parameter: \")"
      ]
    },
    {
      "cell_type": "code",
      "execution_count": null,
      "metadata": {
        "id": "1LDqqSJ13tB_"
      },
      "outputs": [],
      "source": [
        "out=cnn(input_batch).squeeze()"
      ]
    },
    {
      "cell_type": "markdown",
      "source": [
        "## Saving the latent (Resnet18) Image features to save on training time"
      ],
      "metadata": {
        "id": "I6d48r2W_06d"
      }
    },
    {
      "cell_type": "code",
      "execution_count": null,
      "metadata": {
        "colab": {
          "base_uri": "https://localhost:8080/"
        },
        "id": "TPBdF1d3_6Ji",
        "outputId": "408d940b-020d-42bb-a2ff-a6ec6a780ced"
      },
      "outputs": [
        {
          "name": "stderr",
          "output_type": "stream",
          "text": [
            "1000it [29:54,  1.79s/it]\n"
          ]
        },
        {
          "name": "stdout",
          "output_type": "stream",
          "text": [
            "torch.Size([983, 16, 512])\n"
          ]
        },
        {
          "name": "stderr",
          "output_type": "stream",
          "text": [
            "100it [03:16,  1.61s/it]"
          ]
        }
      ],
      "source": [
        "for k in range(10):\n",
        "    video_embeddings = []\n",
        "    y_moment=[]\n",
        "    for j,gif_url in tqdm(enumerate(x[15000+k*1000:15000+(k+1)*1000])):\n",
        "\n",
        "        frames = get_gif_frames(gif_url)\n",
        "\n",
        "        if len(frames)>1:\n",
        "            y_moment.append(y[j+15000+k*1000])\n",
        "            step=len(frames)//16\n",
        "            frame_embeddings = torch.stack([(preprocess(frames[i*step].convert('RGB'))) for i in range(16)])\n",
        "            frame_embeddings=frame_embeddings.to(device)\n",
        "            frame_embeddings = cnn(frame_embeddings).squeeze()\n",
        "            video_embeddings.append(frame_embeddings)\n",
        "\n",
        "    padded_x=pad_sequence(video_embeddings, batch_first=True, padding_value=0)\n",
        "\n",
        "    print(padded_x.size())\n",
        "    torch.save(padded_x, '/content/drive/My Drive/video_captionning/padded_x_tensor_resNet_'+str(12+k)+'.pt')\n",
        "    torch.save(y_moment, '/content/drive/My Drive/video_captionning/padded_y_tensor_resNet_'+str(12+k)+'.pt')"
      ]
    },
    {
      "cell_type": "markdown",
      "metadata": {
        "id": "BlKGKIyZC5--"
      },
      "source": [
        "## Tokenization (Bert Tokenizer)"
      ]
    },
    {
      "cell_type": "code",
      "execution_count": null,
      "metadata": {
        "colab": {
          "base_uri": "https://localhost:8080/",
          "height": 304,
          "referenced_widgets": [
            "acaf6bee7dc546abaf6d224c7c46710f",
            "7082a4454d1945dea69845c505edc773",
            "4929a0fbacbc45bba9eb23d4127f83cb",
            "bc6f74a7c4184c8b837fb4fe5aed700a",
            "23fde0e7457e4070931dc3f5be6c1d3b",
            "34dcf8e726e34833b3c8f91f2c217520",
            "d8a5731a948f44e3bd5fed129df812d5",
            "313602eb13824faea74f7d9a4553aedc",
            "b168ee3a149849b28aedc98b49dc9292",
            "9809209dd63f4c8eb03d7844afcce483",
            "c3f25b9e32c447a9b7743d38a906e495",
            "cdf0acb750aa4477b7134f8a4a1eb1dc",
            "6c19142b3ae94f49b03a633e6c56a9d4",
            "7a4921296f944be5a7a7cbd2bf6a0dc3",
            "8a8e5bdabe9b4492b5898b8140e8ce95",
            "6b8df5df1e6649ddbefecdc58478c812",
            "c1171f1f5ab84af69b71b19dacae33b5",
            "c31ba72046db479386f121e64fd678b8",
            "42883399d23f41fa874033b7a6acb681",
            "c83f944e569149e6bf3b88c5c81720a2",
            "d78d312b88b54b2bb43a7f89b857a148",
            "8dc023e761cf4a2b853823e3f7cb3a4c",
            "38736743e67c48c78aa7bd9fde9e1546",
            "6af035bb45464b76be152d3f9276258b",
            "b8d011576ae14652b281303c777aa853",
            "a46aac1fa335434491d10a62517ee669",
            "bf4cdc07d0c240c0b92bd4e56ea9f92f",
            "bb19c6e25eb34f1d9ce25b689e1e1102",
            "a83ef4a4683a45aa8b636e38063d0c9d",
            "0ec4e74eb0d04c0c852313a34c3e905c",
            "f7fba0e6b34d47248c08eed012418657",
            "84e59dc3eee642a7adbb282057bd2cbe",
            "28110df525f64eb581cb8fa7838a747f",
            "399441daf6e0410183fcffe662d8791e",
            "08e97d37a9d249dd8eacef628e05bef7",
            "9b8c195657d845af9516a1373e87fc4d",
            "29e9cbdb1ca04ee9b64ce720e2b8b725",
            "b531e4773efe445c989ebc68e29d8223",
            "92e785c3be9b46be86876c64751d4fd3",
            "a7c96fda058e49d7b071554c9713dd2a",
            "62688211c6b1404893ed7488983139bd",
            "ba89f633cb8142b58c6bfe26112b8547",
            "3b9b15ba8f1645b5b9fe6bf02e68d1f7",
            "17ce8a47235849b1978ed1535048d821"
          ]
        },
        "id": "mvN4azepACQU",
        "outputId": "f09d6e69-25bb-4501-ef96-cabf14cb892d"
      },
      "outputs": [
        {
          "name": "stderr",
          "output_type": "stream",
          "text": [
            "/usr/local/lib/python3.10/dist-packages/huggingface_hub/utils/_token.py:89: UserWarning: \n",
            "The secret `HF_TOKEN` does not exist in your Colab secrets.\n",
            "To authenticate with the Hugging Face Hub, create a token in your settings tab (https://huggingface.co/settings/tokens), set it as secret in your Google Colab and restart your session.\n",
            "You will be able to reuse this secret in all of your notebooks.\n",
            "Please note that authentication is recommended but still optional to access public models or datasets.\n",
            "  warnings.warn(\n"
          ]
        },
        {
          "data": {
            "application/vnd.jupyter.widget-view+json": {
              "model_id": "acaf6bee7dc546abaf6d224c7c46710f",
              "version_major": 2,
              "version_minor": 0
            },
            "text/plain": [
              "tokenizer_config.json:   0%|          | 0.00/48.0 [00:00<?, ?B/s]"
            ]
          },
          "metadata": {},
          "output_type": "display_data"
        },
        {
          "data": {
            "application/vnd.jupyter.widget-view+json": {
              "model_id": "cdf0acb750aa4477b7134f8a4a1eb1dc",
              "version_major": 2,
              "version_minor": 0
            },
            "text/plain": [
              "vocab.txt:   0%|          | 0.00/232k [00:00<?, ?B/s]"
            ]
          },
          "metadata": {},
          "output_type": "display_data"
        },
        {
          "data": {
            "application/vnd.jupyter.widget-view+json": {
              "model_id": "38736743e67c48c78aa7bd9fde9e1546",
              "version_major": 2,
              "version_minor": 0
            },
            "text/plain": [
              "tokenizer.json:   0%|          | 0.00/466k [00:00<?, ?B/s]"
            ]
          },
          "metadata": {},
          "output_type": "display_data"
        },
        {
          "data": {
            "application/vnd.jupyter.widget-view+json": {
              "model_id": "399441daf6e0410183fcffe662d8791e",
              "version_major": 2,
              "version_minor": 0
            },
            "text/plain": [
              "config.json:   0%|          | 0.00/570 [00:00<?, ?B/s]"
            ]
          },
          "metadata": {},
          "output_type": "display_data"
        },
        {
          "name": "stderr",
          "output_type": "stream",
          "text": [
            "/usr/local/lib/python3.10/dist-packages/transformers/tokenization_utils_base.py:1601: FutureWarning: `clean_up_tokenization_spaces` was not set. It will be set to `True` by default. This behavior will be depracted in transformers v4.45, and will be then set to `False` by default. For more details check this issue: https://github.com/huggingface/transformers/issues/31884\n",
            "  warnings.warn(\n"
          ]
        }
      ],
      "source": [
        "from transformers import BertTokenizer\n",
        "from transformers import BertModel\n",
        "tokenizer = BertTokenizer.from_pretrained('bert-base-uncased')\n",
        "# def tokenize(marked_text):\n",
        "#     tokenized_text = tokenizer.tokenize(marked_text)\n",
        "#     indexed_tokens = tokenizer.convert_tokens_to_ids(tokenized_text)\n",
        "#     return indexed_tokens\n",
        "\n",
        "# encoded_y= list(map(tokenize,y))\n",
        "# print(encoded_y[:10])"
      ]
    },
    {
      "cell_type": "markdown",
      "metadata": {
        "id": "MKtEv-CIHNmJ"
      },
      "source": [
        "## Tokenizing the caption with BERT pre-trained Model"
      ]
    },
    {
      "cell_type": "code",
      "execution_count": null,
      "metadata": {
        "id": "VE46HUILEJAK"
      },
      "outputs": [],
      "source": [
        "\n",
        "def embedd(y):\n",
        "    encoding = tokenizer.batch_encode_plus(y ,                    # List of input texts\n",
        "    padding=True,\n",
        "    truncation=True,\n",
        "    return_tensors='pt',\n",
        "    add_special_tokens=True\n",
        "    )\n",
        "\n",
        "    input_ids = encoding['input_ids']\n",
        "    attention_mask = encoding['attention_mask']\n",
        "\n",
        "    return input_ids,attention_mask"
      ]
    },
    {
      "cell_type": "markdown",
      "source": [
        "## Loading the saved frames Image Features / and corresponding Captions"
      ],
      "metadata": {
        "id": "OxwNMPJcAb7r"
      }
    },
    {
      "cell_type": "code",
      "execution_count": null,
      "metadata": {
        "colab": {
          "base_uri": "https://localhost:8080/"
        },
        "id": "Wyo06P_ucBL_",
        "outputId": "595733f4-96c0-460f-e6d3-e937eb3dc92f"
      },
      "outputs": [
        {
          "name": "stderr",
          "output_type": "stream",
          "text": [
            "<ipython-input-7-854ee7daf0a2>:3: FutureWarning: You are using `torch.load` with `weights_only=False` (the current default value), which uses the default pickle module implicitly. It is possible to construct malicious pickle data which will execute arbitrary code during unpickling (See https://github.com/pytorch/pytorch/blob/main/SECURITY.md#untrusted-models for more details). In a future release, the default value for `weights_only` will be flipped to `True`. This limits the functions that could be executed during unpickling. Arbitrary objects will no longer be allowed to be loaded via this mode unless they are explicitly allowlisted by the user via `torch.serialization.add_safe_globals`. We recommend you start setting `weights_only=True` for any use case where you don't have full control of the loaded file. Please open an issue on GitHub for any issues related to this experimental feature.\n",
            "  padded_x_1 = torch.load('/content/drive/My Drive/video_captionning/padded_x_tensor_resNet_1.pt', map_location=torch.device(device))\n",
            "<ipython-input-7-854ee7daf0a2>:7: FutureWarning: You are using `torch.load` with `weights_only=False` (the current default value), which uses the default pickle module implicitly. It is possible to construct malicious pickle data which will execute arbitrary code during unpickling (See https://github.com/pytorch/pytorch/blob/main/SECURITY.md#untrusted-models for more details). In a future release, the default value for `weights_only` will be flipped to `True`. This limits the functions that could be executed during unpickling. Arbitrary objects will no longer be allowed to be loaded via this mode unless they are explicitly allowlisted by the user via `torch.serialization.add_safe_globals`. We recommend you start setting `weights_only=True` for any use case where you don't have full control of the loaded file. Please open an issue on GitHub for any issues related to this experimental feature.\n",
            "  loaded_x= torch.load('/content/drive/My Drive/video_captionning/padded_x_tensor_resNet_'+str(i)+'.pt', map_location=torch.device(device))\n"
          ]
        },
        {
          "name": "stdout",
          "output_type": "stream",
          "text": [
            "2000\n",
            "2000\n"
          ]
        }
      ],
      "source": [
        "padded_x_1 = torch.load('/content/drive/My Drive/video_captionning/padded_x_tensor_resNet_1.pt', map_location=torch.device(device))\n",
        "padded_x=padded_x_1\n",
        "#22\n",
        "for i in range(2,3):\n",
        "    loaded_x= torch.load('/content/drive/My Drive/video_captionning/padded_x_tensor_resNet_'+str(i)+'.pt', map_location=torch.device(device))\n",
        "    padded_x=torch.cat([padded_x,loaded_x],0)\n",
        "    torch.cuda.empty_cache()\n",
        "\n",
        "\n",
        "frame_block_size= 16\n",
        "y_inter=y[:2000]\n",
        "for i in range(3,3):\n",
        "    y_inter=y_inter+torch.load(f'/content/drive/My Drive/video_captionning/padded_y_tensor_resNet_{i}.pt')\n",
        "\n",
        "print(len(y_inter))\n"
      ]
    },
    {
      "cell_type": "markdown",
      "source": [
        "## Tokenizing the captions"
      ],
      "metadata": {
        "id": "XQ7S7BfFBJbw"
      }
    },
    {
      "cell_type": "code",
      "source": [
        "y_encoded,attention_mask=embedd(y_inter)"
      ],
      "metadata": {
        "id": "tQKXp53DBHs8"
      },
      "execution_count": null,
      "outputs": []
    },
    {
      "cell_type": "code",
      "execution_count": null,
      "metadata": {
        "colab": {
          "base_uri": "https://localhost:8080/"
        },
        "id": "DAguh19kL6st",
        "outputId": "3e7bd389-ea21-47ab-f393-70fec6a35868"
      },
      "outputs": [
        {
          "name": "stdout",
          "output_type": "stream",
          "text": [
            "torch.Size([63843, 31])\n",
            "tensor([  101,  1037,  2158,  2003, 16124,  1010,  1998,  2619,  2007, 17072,\n",
            "         3544,  1012,   102,     0,     0,     0,     0,     0,     0,     0,\n",
            "            0,     0,     0,     0,     0,     0,     0,     0,     0,     0,\n",
            "            0])\n",
            "tensor([1, 1, 1, 1, 1, 1, 1, 1, 1, 1, 1, 1, 1, 0, 0, 0, 0, 0, 0, 0, 0, 0, 0, 0,\n",
            "        0, 0, 0, 0, 0, 0, 0])\n"
          ]
        }
      ],
      "source": [
        "print(y_encoded.size())\n",
        "print(y_encoded[0])\n",
        "print(attention_mask[0])"
      ]
    },
    {
      "cell_type": "markdown",
      "source": [
        "## train/dev split"
      ],
      "metadata": {
        "id": "ZIMMGMGOCRht"
      }
    },
    {
      "cell_type": "code",
      "execution_count": null,
      "metadata": {
        "id": "xWSCG0XzUQLr"
      },
      "outputs": [],
      "source": [
        "size=padded_x.size()[0]\n",
        "print(size)\n",
        "n = int(0.98*size)\n",
        "y_encoded1,attention_mask1=y_encoded[0:size],attention_mask[0:size]\n",
        "#creating train/dev set\n",
        "y_train_data = y_encoded1[:n]\n",
        "y_val_data = y_encoded1[n:batch]\n",
        "\n",
        "attention_mask_train=attention_mask1[:n]\n",
        "attention_mask_val=attention_mask1[n:batch]\n",
        "\n",
        "x_train_data = padded_x[:n]\n",
        "x_val_data = padded_x[n:]\n",
        "\n",
        "# two essential parameters for the architecture\n",
        "block_size=y_encoded.size()[1]\n",
        "vocab_size=padded_x.size()[2]"
      ]
    },
    {
      "cell_type": "markdown",
      "source": [
        "### Batching function"
      ],
      "metadata": {
        "id": "nDPOF8-uCZ0r"
      }
    },
    {
      "cell_type": "code",
      "execution_count": null,
      "metadata": {
        "id": "ryhUG8x3cIPx"
      },
      "outputs": [],
      "source": [
        "def get_batch(split,iter):\n",
        "    # generate a small batch of data of inputs x and targets y\n",
        "    if iter==None:\n",
        "        ix = torch.randperm(len(x_train_data))[:batch_size]\n",
        "    else:\n",
        "      if iter< len(x_train_data)//batch_size:\n",
        "          ix= list(range(iter*batch_size, (iter+1)*batch_size))\n",
        "      else:\n",
        "          ix= list(range(len(x_train_data)-batch_size, len(x_train_data)))\n",
        "    #torch.randint(len(x_train_data)-1 , (batch_size,))\n",
        "    ix_val = torch.randint(len(x_val_data) , (batch_size,))\n",
        "    if split == 'train':\n",
        "        y = torch.stack([y_train_data[i] for i in ix])\n",
        "        x = torch.stack([x_train_data[i] for i in ix])\n",
        "        attention_mask_batched=torch.stack([attention_mask_train[i] for i in ix])\n",
        "\n",
        "\n",
        "    else:\n",
        "        x = torch.stack([x_val_data[i] for i in ix_val])\n",
        "        y = torch.stack([y_val_data[i] for i in ix_val])\n",
        "        attention_mask_batched=torch.stack([attention_mask_val[i] for i in ix_val])\n",
        "\n",
        "    x, y = x.to(device), y.to(device)\n",
        "\n",
        "    return x, y,attention_mask_batched.to(device)"
      ]
    },
    {
      "cell_type": "markdown",
      "source": [
        "## Averaging Loss on a number of eval_iters for better Loss Estimation"
      ],
      "metadata": {
        "id": "IjIxtjp9Ch06"
      }
    },
    {
      "cell_type": "code",
      "execution_count": null,
      "metadata": {
        "id": "wtJfKaKlJnBR"
      },
      "outputs": [],
      "source": [
        "@torch.no_grad()\n",
        "def estimate_loss():\n",
        "    out = {}\n",
        "    model.eval()\n",
        "    flag_train=False\n",
        "    for split in ['train', 'val']:\n",
        "        losses = torch.zeros(eval_iters)\n",
        "        for k in range(eval_iters):\n",
        "            X, Y ,attention= get_batch(split,None)\n",
        "            #with torch.autocast(device_type=device,dtype=torch.bfloat16):\n",
        "            logits, loss = model(X, Y,attention)\n",
        "            losses[k] = loss.item()\n",
        "        out[split] = losses.mean()\n",
        "    model.train()\n",
        "    flag_train=True\n",
        "    return out"
      ]
    },
    {
      "cell_type": "markdown",
      "source": [
        "## Custom Loss for Contrastive learning"
      ],
      "metadata": {
        "id": "fqQsQIy8C9V8"
      }
    },
    {
      "cell_type": "code",
      "execution_count": null,
      "metadata": {
        "id": "JZFF6OHD8NLx"
      },
      "outputs": [],
      "source": [
        "class ContrastiveLoss(nn.Module):\n",
        "    def __init__(self, temperature=0.5):\n",
        "        super(ContrastiveLoss, self).__init__()\n",
        "        self.temperature = temperature\n",
        "\n",
        "    def forward(self, x_cls, mean_enc_output,B):\n",
        "        contrastive_dot = torch.exp(mean_enc_output @ x_cls.transpose(0,1)+1e-8)\n",
        "        diagonal_elements = torch.diagonal(contrastive_dot)\n",
        "        true_text_sum = torch.sum(contrastive_dot, dim=1)\n",
        "        true_vid_sum = torch.sum(contrastive_dot, dim=0)\n",
        "        contrastive_loss =  - (torch.sum(torch.log(diagonal_elements/(true_text_sum+1e-8)) + torch.log(diagonal_elements/(true_vid_sum+1e-8))))/(2*B)\n",
        "        return contrastive_loss"
      ]
    },
    {
      "cell_type": "markdown",
      "source": [
        "## Model architecture"
      ],
      "metadata": {
        "id": "DfGWpB1VDDOX"
      }
    },
    {
      "cell_type": "code",
      "execution_count": null,
      "metadata": {
        "id": "YmJCUZlDIm65"
      },
      "outputs": [],
      "source": [
        "#----------------------------------------------------------------------------------------------------------------\n",
        "\n",
        "class Head(nn.Module):\n",
        "    \"\"\" one head of self-attention \"\"\"\n",
        "\n",
        "    def __init__(self, n_embd,head_size):\n",
        "        super().__init__()\n",
        "        self.key = nn.Linear(n_embd, head_size, bias=False)\n",
        "        self.query = nn.Linear(n_embd, head_size, bias=False)\n",
        "        self.value = nn.Linear(n_embd, head_size, bias=False)\n",
        "        #self.register_buffer('tril', torch.tril(torch.ones(mask_size,mask_size)))\n",
        "\n",
        "        self.dropout = nn.Dropout(dropout)\n",
        "\n",
        "    def forward(self, Q,K,V):\n",
        "\n",
        "        k = self.key(K)   # (B,T,C)\n",
        "        q = self.query(Q) # (B,T,C)\n",
        "        v = self.value(V) # (B,T,C)\n",
        "\n",
        "        B,T,C = q.shape\n",
        "        B,T1,C=k.shape\n",
        "        # # compute attention scores (\"affinities\")\n",
        "        # wei = q @ k.transpose(-2,-1) * C**-0.5 # (B, T, C) @ (B, C, T) -> (B, T, T)\n",
        "        # wei = wei.masked_fill(self.tril[:wei.shape[1], :wei.shape[2]] == 0, float('-inf')) # (B, T, T)\n",
        "        # wei = F.softmax(wei, dim=-1) # (B, T, T)\n",
        "        # wei = self.dropout(wei)\n",
        "        # # perform the weighted aggregation of the values\n",
        "        # out = wei @ v # (B, T, T) @ (B, T, C) -> (B, T, C)\n",
        "\n",
        "        out=F.scaled_dot_product_attention(q,k,v,dropout_p=dropout,is_causal=True) # Flash attention\n",
        "\n",
        "        return out\n",
        "\n",
        "class MultiHeadAttention(nn.Module):\n",
        "    \"\"\" multiple heads of self-attention in parallel \"\"\"\n",
        "\n",
        "    def __init__(self, n_embd,num_heads, head_size):\n",
        "        super().__init__()\n",
        "        self.heads = nn.ModuleList([Head(n_embd,head_size) for _ in range(num_heads)])\n",
        "\n",
        "\n",
        "    def forward(self, Q,K,V):\n",
        "        out = torch.cat([h(Q,K,V) for h in self.heads], dim=-1)\n",
        "        return out\n",
        "class FeedFoward(nn.Module):\n",
        "    \"\"\" a simple linear layer followed by a non-linearity \"\"\"\n",
        "\n",
        "    def __init__(self, n_embd,n_embd_out):\n",
        "        super().__init__()\n",
        "        self.net = nn.Sequential(\n",
        "            nn.Linear(n_embd, 4 * n_embd),\n",
        "            nn.GELU(),\n",
        "            nn.Linear(4 * n_embd, n_embd_out),\n",
        "            nn.Dropout(dropout),\n",
        "        )\n",
        "\n",
        "    def forward(self, x):\n",
        "        return self.net(x)\n",
        "class EncoderBlock(nn.Module):\n",
        "    \"\"\" Transformer block: communication followed by computation \"\"\"\n",
        "\n",
        "    def __init__(self, n_embd, n_head):\n",
        "\n",
        "        super().__init__()\n",
        "        head_size = n_embd // n_head\n",
        "        self.sa = MultiHeadAttention(n_embd,n_head, head_size)\n",
        "        self.ff = nn.Linear(n_embd,n_embd)\n",
        "        self.ln1 = nn.LayerNorm(n_embd)\n",
        "        self.ln2 = nn.LayerNorm(n_embd)\n",
        "\n",
        "    def forward(self, x):\n",
        "        x_norm=self.ln1(x)\n",
        "        x = x + self.sa(x_norm,x_norm,x_norm)\n",
        "        x = x + self.ff(self.ln2(x))\n",
        "        return x\n",
        "\n",
        "class DecoderBlock(nn.Module):\n",
        "\n",
        "\n",
        "    def __init__(self, n_embd, n_head):\n",
        "\n",
        "        super().__init__()\n",
        "        head_size = Bert_n_embd // n_head\n",
        "        self.sa1 = MultiHeadAttention(Bert_n_embd ,n_head, head_size)\n",
        "        self.ffwd = FeedFoward(Bert_n_embd,Bert_n_embd)\n",
        "        self.ln1 = nn.LayerNorm(Bert_n_embd)\n",
        "        self.ln2 = nn.LayerNorm(Bert_n_embd)\n",
        "\n",
        "    def forward(self, x,enc_output):\n",
        "        x_norm=self.ln1(x)\n",
        "        x = x+ self.sa1(x,enc_output,enc_output)\n",
        "        x = x + self.ffwd(self.ln2(x))\n",
        "        return x\n",
        "\n",
        "\n",
        "\n",
        "class Decoder(nn.Module):\n",
        "\n",
        "    def __init__(self):\n",
        "        super().__init__()\n",
        "        self.token_embedding_table = nn.Embedding(vocab_size_Bert, n_embd_decoder)\n",
        "        self.position_embedding_table = nn.Embedding(block_size, n_embd_decoder)\n",
        "        # self.embedder=BertModel.from_pretrained('bert-base-uncased')\n",
        "        # for param in self.embedder.parameters():\n",
        "        #     param.requires_grad = False\n",
        "        self.ln1 = nn.LayerNorm(n_embd_decoder)\n",
        "        head_size = n_embd_decoder // n_head_decoder\n",
        "        self.sa = MultiHeadAttention(n_embd_decoder,n_head_decoder, head_size)\n",
        "        self.ff = nn.Linear(n_embd_decoder,Bert_n_embd)\n",
        "\n",
        "        self.blocks = nn.Sequential(*[DecoderBlock(n_embd_decoder, n_head=n_head_decoder) for _ in range(n_layer_decoder)])\n",
        "        self.ln_f = nn.LayerNorm(Bert_n_embd) # final layer norm\n",
        "        self.lm_head = nn.Linear(Bert_n_embd, vocab_size_Bert)\n",
        "\n",
        "    def forward(self, idx,enc_output,attention=None,targets=None):\n",
        "        B, T = idx.shape\n",
        "        # outputs = self.embedder(idx,attention_mask=attention)\n",
        "        # x = outputs.last_hidden_state.to(device) #(B,T,C)\n",
        "        tok_emb = self.token_embedding_table(idx)\n",
        "        pos_emb = self.position_embedding_table(torch.arange(T, device=device))\n",
        "        x = tok_emb + pos_emb # (B,T,C)\n",
        "        x_norm=self.ln1(x)\n",
        "        x = x + self.sa(x_norm,x_norm,x_norm)\n",
        "        x = self.ff(x)\n",
        "        x_cls= x[:,-1,:] #(B,C)\n",
        "        for block in self.blocks:\n",
        "            x = block(x,enc_output) # (B,T,C)\n",
        "        x = self.ln_f(x) # (B,T,C)\n",
        "        # (B,T,Bert_n_embed)\n",
        "        logits = self.lm_head(x) # (B,T,vocab_size)\n",
        "\n",
        "        if targets is None:\n",
        "            loss = None\n",
        "        else:\n",
        "            B, T, C = logits.shape\n",
        "\n",
        "            mean_enc_output = torch.mean(enc_output, dim=1) # (B,C)\n",
        "\n",
        "            logits = logits.view(B*T, C)\n",
        "            targets = targets.view(B*T)\n",
        "            contrastive_loss=ContrastiveLoss()\n",
        "            loss =alpha* F.cross_entropy(logits, targets)+ (1-alpha)*contrastive_loss(x_cls,mean_enc_output,B)\n",
        "\n",
        "        return logits, loss\n",
        "\n",
        "    def generate(self, idx,enc_output ,max_new_tokens):\n",
        "        # idx is (B, T) array of indices in the current context\n",
        "        for _ in range(max_new_tokens):\n",
        "            # crop idx to the last block_size tokens\n",
        "            idx_cond = idx[:, -block_size:]\n",
        "            # get the predictions\n",
        "            logits, loss = self(idx_cond,enc_output,attention=torch.ones_like(idx_cond))\n",
        "            # focus only on the last time step\n",
        "            logits = logits[:, -1, :] # becomes (B, C)\n",
        "            # apply softmax to get probabilities\n",
        "            probs = F.softmax(logits, dim=-1) # (B, C)\n",
        "            # sample from the distribution\n",
        "            idx_next = torch.multinomial(probs, num_samples=1) # (B, 1)\n",
        "\n",
        "            # append sampled index to the running sequence\n",
        "            idx = torch.cat((idx, idx_next), dim=1) # (B, T+1)\n",
        "            if idx_next==102:\n",
        "                break\n",
        "        return idx\n",
        "\n",
        "\n",
        "class Encoder(nn.Module):\n",
        "\n",
        "    def __init__(self):\n",
        "        super().__init__()\n",
        "        self.ln_in = nn.Linear(resNet_embed, n_embd_encoder)\n",
        "        #self.activation=nn.GELU(approximate='none')\n",
        "        self.position_embedding_table = nn.Embedding(frame_block_size, n_embd_encoder)\n",
        "        #\n",
        "        self.blocks = nn.Sequential(*[EncoderBlock(n_embd_encoder, n_head=n_head_encoder) for _ in range(n_layer_encoder)])\n",
        "        self.ln_f = nn.LayerNorm(n_embd_encoder) # final layer norm\n",
        "        self.lm_head = nn.Linear(n_embd_encoder, query_embd)\n",
        "\n",
        "    def forward(self, idx):\n",
        "        B, T,C = idx.shape\n",
        "\n",
        "        idx_emb=self.ln_in(idx)\n",
        "        #idx_emb=self.activation(idx_emb)\n",
        "        pos_emb = self.position_embedding_table(torch.arange(T, device=device)) # (T,C)\n",
        "        x = pos_emb + idx_emb # (B,T,C)\n",
        "        x = self.blocks(x) # (B,T,C)\n",
        "        x = self.ln_f(x) # (B,T,C)\n",
        "        Q = self.lm_head(x) # (B,T,vocab_size)\n",
        "        return Q\n",
        "class Transformer(nn.Module):\n",
        "\n",
        "    def __init__(self):\n",
        "        super().__init__()\n",
        "        # each token directly reads off the logits for the next token from a lookup table\n",
        "        self.encoder = Encoder()\n",
        "        self.decoder = Decoder()\n",
        "\n",
        "    def forward(self, idx,targets,attention):\n",
        "        enc_output= self.encoder(idx)\n",
        "\n",
        "        fill_value = 102\n",
        "        B,T= targets.shape\n",
        "        shifted_tensor = torch.full((B, T), fill_value, dtype=targets.dtype).to(device)\n",
        "\n",
        "\n",
        "        shifted_tensor[:, :-1] = targets[:, 1:]\n",
        "        logits,loss= self.decoder(targets,enc_output ,attention=attention,targets=shifted_tensor)\n",
        "        return logits,loss\n",
        "    def generate(self, idx,context,max_new_tokens):\n",
        "        enc_output= self.encoder(idx)\n",
        "        final_output= self.decoder.generate(context,enc_output ,max_new_tokens)\n",
        "        return final_output\n",
        "\n"
      ]
    },
    {
      "cell_type": "markdown",
      "source": [
        "## Learning_rate Scheduler (cosine with warmup)"
      ],
      "metadata": {
        "id": "bmO3JzuEDaJA"
      }
    },
    {
      "cell_type": "code",
      "execution_count": null,
      "metadata": {
        "id": "0CqSx3klsOl2"
      },
      "outputs": [],
      "source": [
        "import math\n",
        "\n",
        "def get_cosine_with_warmup_lr(step, total_steps, warmup_steps, initial_lr, min_lr=0):\n",
        "    if step < warmup_steps:\n",
        "        # Linear warm-up\n",
        "        lr = initial_lr * step / warmup_steps\n",
        "    else:\n",
        "        # Cosine decay\n",
        "        progress = (step - warmup_steps) / (total_steps - warmup_steps)\n",
        "        lr = min_lr + 0.5 * (initial_lr - min_lr) * (1 + math.cos(math.pi * progress))\n",
        "    if step > total_steps:\n",
        "        lr = min_lr\n",
        "    return lr\n",
        "\n",
        "# Example usage\n",
        "initial_lr = 0.001\n",
        "min_lr = 0.00001\n",
        "total_steps = 10*batch//batch_size\n",
        "warmup_steps = 50"
      ]
    },
    {
      "cell_type": "markdown",
      "source": [
        "## Training Loop"
      ],
      "metadata": {
        "id": "DBrECD1UDmXi"
      }
    },
    {
      "cell_type": "code",
      "execution_count": null,
      "metadata": {
        "colab": {
          "base_uri": "https://localhost:8080/"
        },
        "id": "_vOF4yy8ckLQ",
        "outputId": "876b6cb9-a720-4fa2-e3d2-0edf2dcbcb7a"
      },
      "outputs": [
        {
          "name": "stderr",
          "output_type": "stream",
          "text": [
            "<ipython-input-24-fbc3e6037ad1>:4: FutureWarning: You are using `torch.load` with `weights_only=False` (the current default value), which uses the default pickle module implicitly. It is possible to construct malicious pickle data which will execute arbitrary code during unpickling (See https://github.com/pytorch/pytorch/blob/main/SECURITY.md#untrusted-models for more details). In a future release, the default value for `weights_only` will be flipped to `True`. This limits the functions that could be executed during unpickling. Arbitrary objects will no longer be allowed to be loaded via this mode unless they are explicitly allowlisted by the user via `torch.serialization.add_safe_globals`. We recommend you start setting `weights_only=True` for any use case where you don't have full control of the loaded file. Please open an issue on GitHub for any issues related to this experimental feature.\n",
            "  model.load_state_dict(torch.load(model_path))\n"
          ]
        },
        {
          "name": "stdout",
          "output_type": "stream",
          "text": [
            "71.984922 M parameters\n",
            "epoch 0 is executed\n",
            "step 0: train loss 2.4268, val loss 2.5654, learning_rate 0.000000\n",
            "step 50: train loss 2.4920, val loss 2.6265, learning_rate 0.001000\n",
            "step 100: train loss 2.4550, val loss 2.6407, learning_rate 0.001000\n",
            "step 150: train loss 2.4901, val loss 2.6488, learning_rate 0.000999\n",
            "step 200: train loss 2.4872, val loss 2.5601, learning_rate 0.000998\n",
            "step 250: train loss 2.3986, val loss 2.5980, learning_rate 0.000996\n",
            "step 300: train loss 2.3888, val loss 2.5968, learning_rate 0.000994\n",
            "step 350: train loss 2.4135, val loss 2.5871, learning_rate 0.000991\n",
            "step 400: train loss 2.4126, val loss 2.5605, learning_rate 0.000988\n",
            "step 450: train loss 2.4001, val loss 2.5623, learning_rate 0.000984\n",
            "step 487: train loss 2.3688, val loss 2.5138, learning_rate 0.000981\n",
            "[CLS] a gray cat is swinging through a toy which disappears. [SEP]\n",
            "epoch 1 is executed\n",
            "step 0: train loss 2.4094, val loss 2.5380, learning_rate 0.000980\n",
            "step 50: train loss 2.3640, val loss 2.5001, learning_rate 0.000975\n",
            "step 100: train loss 2.3486, val loss 2.5850, learning_rate 0.000970\n",
            "step 150: train loss 2.3508, val loss 2.5302, learning_rate 0.000965\n",
            "step 200: train loss 2.3304, val loss 2.5036, learning_rate 0.000959\n",
            "step 250: train loss 2.3131, val loss 2.5754, learning_rate 0.000952\n",
            "step 300: train loss 2.3164, val loss 2.5253, learning_rate 0.000945\n",
            "step 350: train loss 2.2796, val loss 2.5686, learning_rate 0.000938\n",
            "step 400: train loss 2.3354, val loss 2.5713, learning_rate 0.000930\n",
            "step 450: train loss 2.2725, val loss 2.4869, learning_rate 0.000921\n",
            "step 487: train loss 2.3220, val loss 2.4644, learning_rate 0.000915\n",
            "[CLS] a dog touches on a bed as a carpet before being held by another cat [SEP]\n",
            "epoch 2 is executed\n",
            "step 0: train loss 2.2753, val loss 2.4994, learning_rate 0.000913\n",
            "step 50: train loss 2.2386, val loss 2.5438, learning_rate 0.000904\n",
            "step 100: train loss 2.2448, val loss 2.5290, learning_rate 0.000894\n",
            "step 150: train loss 2.2233, val loss 2.5036, learning_rate 0.000884\n",
            "step 200: train loss 2.2109, val loss 2.5101, learning_rate 0.000874\n",
            "step 250: train loss 2.1980, val loss 2.5013, learning_rate 0.000863\n",
            "step 300: train loss 2.2069, val loss 2.4627, learning_rate 0.000852\n",
            "step 350: train loss 2.2223, val loss 2.5599, learning_rate 0.000841\n",
            "step 400: train loss 2.1815, val loss 2.4368, learning_rate 0.000829\n",
            "step 450: train loss 2.1592, val loss 2.4778, learning_rate 0.000817\n",
            "step 487: train loss 2.2296, val loss 2.4988, learning_rate 0.000808\n",
            "[CLS] a kitten bounced half blanket with horns in a room [SEP]\n",
            "epoch 3 is executed\n",
            "step 0: train loss 2.1876, val loss 2.4526, learning_rate 0.000805\n",
            "step 50: train loss 2.1579, val loss 2.4682, learning_rate 0.000792\n",
            "step 100: train loss 2.2357, val loss 2.5554, learning_rate 0.000779\n",
            "step 150: train loss 2.1592, val loss 2.5178, learning_rate 0.000766\n",
            "step 200: train loss 2.0912, val loss 2.4876, learning_rate 0.000752\n",
            "step 250: train loss 2.1361, val loss 2.4623, learning_rate 0.000739\n",
            "step 300: train loss 2.1075, val loss 2.4580, learning_rate 0.000725\n",
            "step 350: train loss 2.0648, val loss 2.4814, learning_rate 0.000710\n",
            "step 400: train loss 2.1129, val loss 2.4677, learning_rate 0.000696\n",
            "step 450: train loss 2.0712, val loss 2.3933, learning_rate 0.000681\n",
            "step 487: train loss 2.0592, val loss 2.4576, learning_rate 0.000670\n",
            "[CLS] a cat is scared by food from a remote couch and throws it. [SEP]\n",
            "epoch 4 is executed\n",
            "step 0: train loss 2.0766, val loss 2.3895, learning_rate 0.000667\n",
            "step 50: train loss 2.0628, val loss 2.4327, learning_rate 0.000652\n",
            "step 100: train loss 2.0796, val loss 2.4479, learning_rate 0.000637\n",
            "step 150: train loss 2.0196, val loss 2.4354, learning_rate 0.000622\n",
            "step 200: train loss 2.0235, val loss 2.4763, learning_rate 0.000606\n",
            "step 250: train loss 2.0188, val loss 2.4623, learning_rate 0.000591\n",
            "step 300: train loss 1.9913, val loss 2.4775, learning_rate 0.000575\n",
            "step 350: train loss 1.9779, val loss 2.4533, learning_rate 0.000560\n",
            "step 400: train loss 2.0260, val loss 2.4542, learning_rate 0.000544\n",
            "step 450: train loss 2.0246, val loss 2.4275, learning_rate 0.000528\n",
            "step 487: train loss 2.0035, val loss 2.4146, learning_rate 0.000516\n",
            "[CLS] a cat is hanging from a pile of cups [SEP]\n",
            "[CLS] a cat is chasing her sheets before turning on a scratching his ear as though the restaurant [SEP]\n"
          ]
        }
      ],
      "source": [
        "torch.cuda.empty_cache()\n",
        "model = Transformer()\n",
        "model_path = '/content/drive/My Drive/video_captionning/model_weights_light_v3_fixed.pt'\n",
        "model.load_state_dict(torch.load(model_path))\n",
        "\n",
        "m = model.to(device)\n",
        "#model=torch.compile(model)\n",
        "# print the number of parameters in the model\n",
        "print(sum(p.numel() for p in m.parameters())/1e6, 'M parameters')\n",
        "with torch.no_grad():\n",
        "    context = torch.full((1, 1),101, device=device)\n",
        "# create a PyTorch optimizer\n",
        "optimizer = torch.optim.AdamW(model.parameters(), lr=learning_rate)\n",
        "block_size=y_encoded.size()[1]\n",
        "for e in range(0,max_iters):\n",
        "    print(f\"epoch {e} is executed\")\n",
        "\n",
        "    #y_encoded1,attention_mask1=y_encoded[j*1000:(j+1)*1000],attention_mask[j*7000:(j+1)*7000]\n",
        "\n",
        "    # y_train_data = y_encoded1[:n]\n",
        "    # y_val_data = y_encoded1[n:batch]\n",
        "    # print(j,\"'th dataset is being processed...\" )\n",
        "    for iter in range(len(x_train_data)//batch_size):\n",
        "\n",
        "        optimizer.zero_grad()\n",
        "        lr=get_cosine_with_warmup_lr(e*batch//batch_size+iter,total_steps,warmup_steps,initial_lr,min_lr)\n",
        "        # every once in a while evaluate the loss on train and val sets\n",
        "        if iter % eval_interval == 0 or iter == len(x_train_data)//batch_size - 1:\n",
        "\n",
        "            losses = estimate_loss()\n",
        "\n",
        "            print(f\"step {iter}: train loss {losses['train']:.4f}, val loss {losses['val']:.4f}, learning_rate {lr:.6f}\")\n",
        "            #print(tokenizer.decode(m.generate(padded_x[5].unsqueeze(0),context, max_new_tokens=60)[0].tolist()))\n",
        "        # sample a batch of data\n",
        "        xb, yb,attention = get_batch('train',iter)\n",
        "\n",
        "        logits, loss = model(xb, yb,attention)\n",
        "\n",
        "        loss.backward()\n",
        "\n",
        "\n",
        "        for param in optimizer.param_groups:\n",
        "            param['lr'] = lr\n",
        "        nn.utils.clip_grad_norm_(model.parameters(), 1.0)\n",
        "\n",
        "        optimizer.step()\n",
        "\n",
        "    print(tokenizer.decode(m.generate(padded_x[5].unsqueeze(0),context, max_new_tokens=60)[0].tolist()))\n",
        "    torch.save(model.state_dict(), model_path)\n",
        "\n",
        "\n",
        "\n",
        "with torch.no_grad():\n",
        "    torch.save(model.state_dict(), model_path)\n",
        "    print(tokenizer.decode(m.generate(padded_x[5].unsqueeze(0),context, max_new_tokens=60)[0].tolist()))"
      ]
    },
    {
      "cell_type": "code",
      "execution_count": null,
      "metadata": {
        "colab": {
          "base_uri": "https://localhost:8080/"
        },
        "id": "M7JGicyDYvz3",
        "outputId": "0296d560-562e-40c5-a8aa-bd7033723bfe"
      },
      "outputs": [
        {
          "name": "stdout",
          "output_type": "stream",
          "text": [
            "[CLS] a woman is showing her hands as she talks to the monster on a piece of her finger. [SEP]\n"
          ]
        }
      ],
      "source": [
        "print(tokenizer.decode(m.generate(padded_x[60].unsqueeze(0),context, max_new_tokens=30)[0].tolist()))\n"
      ]
    },
    {
      "cell_type": "code",
      "execution_count": null,
      "metadata": {
        "colab": {
          "base_uri": "https://localhost:8080/"
        },
        "id": "iti6BaEkX50D",
        "outputId": "0f5c2ea6-20a1-4c0e-de5c-10d8f27cb98b"
      },
      "outputs": [
        {
          "name": "stdout",
          "output_type": "stream",
          "text": [
            "71.984922 M parameters\n"
          ]
        }
      ],
      "source": [
        "block_size=31\n",
        "torch.cuda.empty_cache()\n",
        "model = Transformer()\n",
        "model_path = '/content/drive/My Drive/video_captionning/model_weights_light_v3.pt'\n",
        "model.load_state_dict(torch.load(model_path))\n",
        "\n",
        "m = model.to(device)\n",
        "\n",
        "print(sum(p.numel() for p in m.parameters())/1e6, 'M parameters')\n",
        "with torch.no_grad():\n",
        "    context = torch.full((1, 1),101, device=device)"
      ]
    },
    {
      "cell_type": "code",
      "execution_count": null,
      "metadata": {
        "colab": {
          "background_save": true,
          "base_uri": "https://localhost:8080/",
          "height": 1000
        },
        "id": "O8jRUoRnhUzs",
        "outputId": "583e3ab7-fa91-4312-a2c6-66791aaf5a6d"
      },
      "outputs": [
        {
          "name": "stderr",
          "output_type": "stream",
          "text": [
            "<ipython-input-17-99eeed8274e9>:6: FutureWarning: You are using `torch.load` with `weights_only=False` (the current default value), which uses the default pickle module implicitly. It is possible to construct malicious pickle data which will execute arbitrary code during unpickling (See https://github.com/pytorch/pytorch/blob/main/SECURITY.md#untrusted-models for more details). In a future release, the default value for `weights_only` will be flipped to `True`. This limits the functions that could be executed during unpickling. Arbitrary objects will no longer be allowed to be loaded via this mode unless they are explicitly allowlisted by the user via `torch.serialization.add_safe_globals`. We recommend you start setting `weights_only=True` for any use case where you don't have full control of the loaded file. Please open an issue on GitHub for any issues related to this experimental feature.\n",
            "  model.load_state_dict(torch.load(model_path))\n"
          ]
        },
        {
          "name": "stdout",
          "output_type": "stream",
          "text": [
            "71.984922 M parameters\n"
          ]
        },
        {
          "data": {
            "text/html": [
              "<img src=\"https://38.media.tumblr.com/84adb9ae8bb5cfa65931b8e6a3599b68/tumblr_nnm7psQVAK1sf5ftgo1_540.gif\"/>"
            ],
            "text/plain": [
              "<IPython.core.display.Image object>"
            ]
          },
          "metadata": {},
          "output_type": "display_data"
        },
        {
          "name": "stdout",
          "output_type": "stream",
          "text": [
            "ground label :  a woman with blonde hair is wearing sunglasses. \n",
            "\n",
            "predicted : \n",
            " \n",
            "[CLS] a woman in weird glasses is in front of her sunglasses and then putting her head makes silly causing her hands before glasses to her [SEP]\n",
            "[CLS] a guy in sunglasses poses in a red glasses is walking ahead [SEP]\n",
            "[CLS] a girl in sunglasses and dark sunglasses poses. [SEP]\n",
            "[CLS] a woman wearing glasses is talking to the front of her friend. [SEP]\n",
            "[CLS] a man in sunglasses and walks his necklace is smiling. [SEP]\n",
            "[CLS] a man wearing sunglasses is looking to sunglasses is with his head up. [SEP]\n",
            "[CLS] covers sunglasses knocks open their glasses to their hood. [SEP]\n",
            "[CLS] the man is - down embarrassing his shirt. [SEP]\n",
            "[CLS] a boy with red hair pushes up and removes her hand on a peace sign and brushes their tongue out front of her headphones while singing [SEP]\n",
            "[CLS] a man in sunglasses and sunglasses shakes his fists in a big smile [SEP]\n"
          ]
        },
        {
          "data": {
            "text/html": [
              "<img src=\"https://38.media.tumblr.com/8758a77f0fb31e06beb6de9e55629e00/tumblr_no5ywtPy2R1sjfdr4o1_500.gif\"/>"
            ],
            "text/plain": [
              "<IPython.core.display.Image object>"
            ]
          },
          "metadata": {},
          "output_type": "display_data"
        },
        {
          "name": "stdout",
          "output_type": "stream",
          "text": [
            "ground label :  a child on a table are doing a dance. \n",
            "\n",
            "predicted : \n",
            " \n",
            "[CLS] a woman is going around an injured motorbike while lifting her stick. [SEP]\n",
            "[CLS] a man holds a bouquet in his hair is singing while playing the audience. [SEP]\n",
            "[CLS] a woman is performing a skateboard, and 3 people. [SEP]\n",
            "[CLS] a guy is performing a song while another guy is kneeling [SEP]\n",
            "[CLS] a man slams an older woman with lots of people. [SEP]\n",
            "[CLS] a boy is doing sit ups while seated. [SEP]\n",
            "[CLS] a group of people are skateboard. [SEP]\n",
            "[CLS] a guy comes out of a soldier swings her arms while another boat [SEP]\n",
            "[CLS] someone points the musicians are handed to close doing a hipen. [SEP]\n",
            "[CLS] two people are having fun before playing each other [SEP]\n"
          ]
        },
        {
          "data": {
            "text/html": [
              "<img src=\"https://38.media.tumblr.com/88976e0d8b0e068ebdb114ad9226b66a/tumblr_nmp0m0o3Iv1r44r7zo1_500.gif\"/>"
            ],
            "text/plain": [
              "<IPython.core.display.Image object>"
            ]
          },
          "metadata": {},
          "output_type": "display_data"
        },
        {
          "name": "stdout",
          "output_type": "stream",
          "text": [
            "ground label :  the clouds are moving next to the full moon \n",
            "\n",
            "predicted : \n",
            " \n",
            "[CLS] a group of people dance in the water. [SEP]\n",
            "[CLS] two people are singing on a fog. [SEP]\n",
            "[CLS] fireworks burn of water does a smoke and then it over and it [SEP]\n",
            "[CLS] a woman is singing and dancing in front of a smoke out smoke. [SEP]\n",
            "[CLS] a lighter. [SEP]\n",
            "[CLS] a man comes flying through the fog. [SEP]\n",
            "[CLS] a person is blowing smoke out of his mouth. [SEP]\n",
            "[CLS] three different shirts turn and forth in butterflies. [SEP]\n",
            "[CLS] a man is blowing smoke out of its wet. [SEP]\n",
            "[CLS] a woman is singing and a cloud of smoke rises slowly moves through the smoke [SEP]\n"
          ]
        },
        {
          "data": {
            "text/html": [
              "<img src=\"https://38.media.tumblr.com/336b30332daf3add1a7b3d6d8cce3a8e/tumblr_nq3xqqPqUJ1urgudfo1_400.gif\"/>"
            ],
            "text/plain": [
              "<IPython.core.display.Image object>"
            ]
          },
          "metadata": {},
          "output_type": "display_data"
        },
        {
          "name": "stdout",
          "output_type": "stream",
          "text": [
            "ground label :  the asian boy with the dark hair have a cat \n",
            "\n",
            "predicted : \n",
            " \n",
            "[CLS] a kid with long hair is holding. [SEP]\n",
            "[CLS] a little kitten holds her hair back with a bunch funny face stroked up. [SEP]\n",
            "[CLS] a guy is kissing a man who is vacuum down on the floor [SEP]\n",
            "[CLS] a baby boy with spiky hair bursts out. [SEP]\n",
            "[CLS] a woman is holding her face in the distance [SEP]\n",
            "[CLS] a man turns his head back and makes silly around him hand [SEP]\n",
            "[CLS] a young person fell over with their finger touches its face [SEP]\n",
            "[CLS] a woman plays guitar and then he falls on a chair [SEP]\n",
            "[CLS] a woman is holding a pink chair is holding her hair. [SEP]\n",
            "[CLS] a kitten walks away from a persongga in his mouth and raises his nose and raises an object [SEP]\n"
          ]
        },
        {
          "data": {
            "text/html": [
              "<img src=\"https://38.media.tumblr.com/61f3c1edb4c14c65ac9ba0b8fa932748/tumblr_npswm4R1kB1tk15f6o1_400.gif\"/>"
            ],
            "text/plain": [
              "<IPython.core.display.Image object>"
            ]
          },
          "metadata": {},
          "output_type": "display_data"
        },
        {
          "name": "stdout",
          "output_type": "stream",
          "text": [
            "ground label :  a woman are sitting on a fountain edge then cuddling a man \n",
            "\n",
            "predicted : \n",
            " \n",
            "[CLS] a young man throws a wall and throws candles. is eating [SEP]\n",
            "[CLS] a man puts a woman who comes into her. [SEP]\n",
            "[CLS] two people are drinking alcohol from a bunch of people. [SEP]\n",
            "[CLS] the woman is standing in front of a building. [SEP]\n",
            "[CLS] a man pile of people are flipping down a street [SEP]\n",
            "[CLS] a man danced at a counter and ends into his friend [SEP]\n",
            "[CLS] a man and a woman are talking to couple front porch [SEP]\n",
            "[CLS] a woman looks towards a table runs into sara. [SEP]\n",
            "[CLS] a man and a woman are jumping out before wind [SEP]\n",
            "[CLS] a man kicks one leg up and throws candles with a pentagram rowing. [SEP]\n"
          ]
        },
        {
          "data": {
            "text/html": [
              "<img src=\"https://38.media.tumblr.com/b6005516f1bcd7b2746b1fe3ad06be2c/tumblr_np4i8z7M2J1qkxf5no1_500.gif\"/>"
            ],
            "text/plain": [
              "<IPython.core.display.Image object>"
            ]
          },
          "metadata": {},
          "output_type": "display_data"
        },
        {
          "name": "stdout",
          "output_type": "stream",
          "text": [
            "ground label :  a dancer is moving hilariously in the dirt. \n",
            "\n",
            "predicted : \n",
            " \n",
            "[CLS] a crowd of people is playing a musical instruments. [SEP]\n",
            "[CLS] a man is spinning on fence and falls. [SEP]\n",
            "[CLS] two people are dancing and crossings are watching. [SEP]\n",
            "[CLS] a guy holds a gun is kissing three containers. [SEP]\n",
            "[CLS] a woman practices dance dancing on the face of her. [SEP]\n",
            "[CLS] a woman rodeerly fluffs dancing on a man. [SEP]\n",
            "[CLS] a group of people are performing a dance moves. [SEP]\n",
            "[CLS] an alien is walking with a long swords on [SEP]\n",
            "[CLS] the man holding phone is dancing walking towards a stage. [SEP]\n",
            "[CLS] three adult african attire are sticking out. [SEP]\n"
          ]
        },
        {
          "data": {
            "text/html": [
              "<img src=\"https://38.media.tumblr.com/f08f358b2481b3cea16ab307d5875206/tumblr_noukpmbpsm1smj4j2o1_540.gif\"/>"
            ],
            "text/plain": [
              "<IPython.core.display.Image object>"
            ]
          },
          "metadata": {},
          "output_type": "display_data"
        },
        {
          "name": "stdout",
          "output_type": "stream",
          "text": [
            "ground label :  a group of men are playing soccer. \n",
            "\n",
            "predicted : \n",
            " \n",
            "[CLS] a footballer walks up the ball into him in the head to block a football [SEP]\n",
            "[CLS] people are playing soccer in a soccer field. [SEP]\n",
            "[CLS] a soccer player is scoring a goal. [SEP]\n",
            "[CLS] a football player scores a goal from far away from to the team in the striker so that he scores a goal [SEP]\n",
            "[CLS] a man is scoring a football game and making a goal and scores an opposing team in a goal. [SEP]\n",
            "[CLS] a soccer player misses a goal in a red are dancing. [SEP]\n",
            "[CLS] two teams are playing football and practicing on a green ball [SEP]\n",
            "[CLS] a football game is a goal from team [SEP]\n",
            "[CLS] a soccer team and tackles a goal from goalkeeper is scored. [SEP]\n",
            "[CLS] a soccer player runs across the ball from far [SEP]\n"
          ]
        },
        {
          "data": {
            "text/html": [
              "<img src=\"https://38.media.tumblr.com/602b41993b45f610481bfb612cca2313/tumblr_np3gpcYmJG1u9wahpo1_400.gif\"/>"
            ],
            "text/plain": [
              "<IPython.core.display.Image object>"
            ]
          },
          "metadata": {},
          "output_type": "display_data"
        },
        {
          "name": "stdout",
          "output_type": "stream",
          "text": [
            "ground label :  Debbie Ryan is wearing a wedding dress on a balcony. \n",
            "\n",
            "predicted : \n",
            " \n",
            "[CLS] a see - with red hair sits back is standing at something in her chair. [SEP]\n",
            "[CLS] a woman with red hair is sitting on stage the splits. [SEP]\n",
            "[CLS] a man throws a podium slides and then puts a ninja of it lands. [SEP]\n",
            "[CLS] a man is pouring liquid inside a lamp and spraying graffiti looks about throwing a shelf laughed. [SEP]\n",
            "[CLS] a woman toy is spinning around a couch trying to dance. [SEP]\n",
            "[CLS] a person puts a tablecloth crashes into the ceiling. [SEP]\n",
            "[CLS] a young woman is dancing very funny while looking annoyed [SEP]\n",
            "[CLS] a woman in a skirt closed shirt is trying to the ground. [SEP]\n",
            "[CLS] a guy removes the top of a gray sweatshirt are performing edge of a cat that allows. [SEP]\n",
            "[CLS] a man on a podium and throws a woman red chairs [SEP]\n"
          ]
        },
        {
          "data": {
            "text/html": [
              "<img src=\"https://38.media.tumblr.com/aa1c4656e226614da612614f8777fc2d/tumblr_nn4pyff5tV1uor0u5o1_250.gif\"/>"
            ],
            "text/plain": [
              "<IPython.core.display.Image object>"
            ]
          },
          "metadata": {},
          "output_type": "display_data"
        },
        {
          "name": "stdout",
          "output_type": "stream",
          "text": [
            "ground label :  a man is looking at a big picture. \n",
            "\n",
            "predicted : \n",
            " \n",
            "[CLS] a man helps a guitar strapped to another man. [SEP]\n",
            "[CLS] a man in a black suit is hiding in his hands. [SEP]\n",
            "[CLS] a man is jump away from a girl up and points to look at a dragon. [SEP]\n",
            "[CLS] charlie chan is emitting the newspaper with a drink. [SEP]\n",
            "[CLS] a man in jeans and a shirt is throwing money. [SEP]\n",
            "[CLS] a group of people are dining of themselves holding a can of food. [SEP]\n",
            "[CLS] a man in a black leather pants tries to his bed. [SEP]\n",
            "[CLS] a man is being pinched its shadow on a ketchup on it. [SEP]\n",
            "[CLS] a man twists mad with his painted very funny in his hands. [SEP]\n",
            "[CLS] a man is whispering on the sofa and getting exploded on his head [SEP]\n"
          ]
        },
        {
          "data": {
            "text/html": [
              "<img src=\"https://38.media.tumblr.com/67125942ffb19f7695d7bfa512cb582b/tumblr_noj0kmDpl41ta3tzdo1_500.gif\"/>"
            ],
            "text/plain": [
              "<IPython.core.display.Image object>"
            ]
          },
          "metadata": {},
          "output_type": "display_data"
        },
        {
          "name": "stdout",
          "output_type": "stream",
          "text": [
            "ground label :  a man is dancing on the floor, while a lot of people is watching him \n",
            "\n",
            "predicted : \n",
            " \n",
            "[CLS] a scene - naked people on his guitar with lights behind her [SEP]\n",
            "[CLS] two police officers blows out on the drunk at a halo and ends up. [SEP]\n",
            "[CLS] a person is dancing on a large stage. [SEP]\n",
            "[CLS] a girl and a group of people are on stage [SEP]\n",
            "[CLS] guys danced in christmas clothing clothing. [SEP]\n",
            "[CLS] a man is dancing on a stage with lit [SEP]\n",
            "[CLS] a person does a dance at a show dancing on stage [SEP]\n",
            "[CLS] a woman walks along a set of water at night start and jumps again [SEP]\n",
            "[CLS] a musical full that are fires a sunmming turn from an explosion happens. [SEP]\n",
            "[CLS] a woman is dancing on a stage in a parking lot of face. [SEP]\n"
          ]
        },
        {
          "data": {
            "text/html": [
              "<img src=\"https://38.media.tumblr.com/a4a83cc0a95fc12abd9ec352ec8520de/tumblr_nqgd9r01fb1u6z5ppo1_400.gif\"/>"
            ],
            "text/plain": [
              "<IPython.core.display.Image object>"
            ]
          },
          "metadata": {},
          "output_type": "display_data"
        },
        {
          "name": "stdout",
          "output_type": "stream",
          "text": [
            "ground label :  a man turns his head in disbelief in a public setting. \n",
            "\n",
            "predicted : \n",
            " \n",
            "[CLS] a man touches his arm in his nose with his mouth. [SEP]\n",
            "[CLS] a man is pointing at his nose and he puts his chick against his hand [SEP]\n",
            "[CLS] a man makes a flirts his head down. [SEP]\n",
            "[CLS] a man makes eye contact with his hand [SEP]\n",
            "[CLS] a couple makes a car and she walks [SEP]\n",
            "[CLS] a moving to a person from something with her tongue out. [SEP]\n",
            "[CLS] a man is spraying a sweet's face and looking down [SEP]\n",
            "[CLS] a man is looking something while resting his nose is blinking [SEP]\n",
            "[CLS] a man with sunglasses is making some words hair is singing [SEP]\n",
            "[CLS] a man brushes his shoulders and turns around [SEP]\n"
          ]
        },
        {
          "data": {
            "text/html": [
              "<img src=\"https://38.media.tumblr.com/88bd6013c943b41c93f685e0577b451c/tumblr_noxbsuCyAg1tjhed2o1_500.gif\"/>"
            ],
            "text/plain": [
              "<IPython.core.display.Image object>"
            ]
          },
          "metadata": {},
          "output_type": "display_data"
        },
        {
          "name": "stdout",
          "output_type": "stream",
          "text": [
            "ground label :  a man with lights on his jacket watching a large screen tv \n",
            "\n",
            "predicted : \n",
            " \n",
            "[CLS] many people are removing a large building with crossing each other [SEP]\n",
            "[CLS] a jet skids down the top of a boot by some wall in front of a watch. [SEP]\n",
            "[CLS] a male model is balancing and star objects are going through the house. [SEP]\n",
            "[CLS] a man is going down a track in a crowd of smoke [SEP]\n",
            "[CLS] a group of men are skateboarding up. [SEP]\n",
            "[CLS] a young man on stage is picked. [SEP]\n",
            "[CLS] a man in a white dressing dust during an umbrella out and spreads number of them. [SEP]\n",
            "[CLS] a bald man with black shirt is singing and singing [SEP]\n",
            "[CLS] several people are on a stage, stairs [SEP]\n",
            "[CLS] the men are fighting in a crossing in the background [SEP]\n"
          ]
        },
        {
          "data": {
            "text/html": [
              "<img src=\"https://38.media.tumblr.com/d3a56a59cfc7e298e072438f269aea4a/tumblr_nplh2wKGxI1qbv2ixo1_400.gif\"/>"
            ],
            "text/plain": [
              "<IPython.core.display.Image object>"
            ]
          },
          "metadata": {},
          "output_type": "display_data"
        },
        {
          "name": "stdout",
          "output_type": "stream",
          "text": [
            "ground label :  a cat plays with a toy, moving flower. \n",
            "\n",
            "predicted : \n",
            " \n",
            "[CLS] a removes bracelets a sock and feathers. [SEP]\n",
            "[CLS] a piece of water rises up and then it behind candles [SEP]\n",
            "[CLS] a woman scratches her red hair and sings while under her eyes. [SEP]\n",
            "[CLS] a cat is trying to jump to hide and smiling [SEP]\n",
            "[CLS] a cat is moving along a flower while walking into a bathtub with a wide. [SEP]\n",
            "[CLS] a vacuum cleaner knocks over bumps into the water [SEP]\n",
            "[CLS] a small puppy tries to bite water, and carries it under water suddenly bowl and throws the bowl. [SEP]\n",
            "[CLS] a woman is moving as fellpping goldb deer by a board. [SEP]\n",
            "[CLS] a kitten trying to get into an candy. [SEP]\n",
            "[CLS] a small girl with cute hair is smoking. [SEP]\n"
          ]
        },
        {
          "data": {
            "text/html": [
              "<img src=\"https://38.media.tumblr.com/ec435beec23dccf74866d4b680179489/tumblr_mvzxf3jxAn1r7bce7o1_500.gif\"/>"
            ],
            "text/plain": [
              "<IPython.core.display.Image object>"
            ]
          },
          "metadata": {},
          "output_type": "display_data"
        },
        {
          "name": "stdout",
          "output_type": "stream",
          "text": [
            "ground label :  a kitten rolls over and stares with big eyes \n",
            "\n",
            "predicted : \n",
            " \n",
            "[CLS] a cat is standing in a licks a dog is struggling brown and the dog [SEP]\n",
            "[CLS] a kitten is relaxing on its mother. [SEP]\n",
            "[CLS] a dog bun falls off a couch when it lick her puppies. [SEP]\n",
            "[CLS] a kitten is playing on air guitar next to sleep before getting into each other. [SEP]\n",
            "[CLS] a kitten lifts his beside a cat and lies down while scratching [SEP]\n",
            "[CLS] a white cat is meowing and chewing on their head [SEP]\n",
            "[CLS] a bunch of cats is wearing a cat's shoulder. [SEP]\n",
            "[CLS] the cats are relaxing on top of a blanket. [SEP]\n",
            "[CLS] three kittens are hugging a cat with excitement [SEP]\n",
            "[CLS] a small kitten who looks over and then looks away. [SEP]\n"
          ]
        },
        {
          "data": {
            "text/html": [
              "<img src=\"https://38.media.tumblr.com/85a9f0f0b053f6318c3442e276b73fa9/tumblr_np16zaOUbQ1uo3gbso1_250.gif\"/>"
            ],
            "text/plain": [
              "<IPython.core.display.Image object>"
            ]
          },
          "metadata": {},
          "output_type": "display_data"
        },
        {
          "name": "stdout",
          "output_type": "stream",
          "text": [
            "ground label :  an asian man does a celebratory dance in a sweat suit \n",
            "\n",
            "predicted : \n",
            " \n",
            "[CLS] two happy hockey players are waving their faces. [SEP]\n",
            "[CLS] a girl does did soccer and the girl moves away. [SEP]\n",
            "[CLS] a really frustrated and then start to the side. [SEP]\n",
            "[CLS] a hockey team is touching in a ring [SEP]\n",
            "[CLS] a kid in a baseball outfit crosses another female pounds [SEP]\n",
            "[CLS] a handsome player walks forward, stands by lots of small child from behind them. [SEP]\n",
            "[CLS] a man is dancing and blowing out of his tongue out [SEP]\n",
            "[CLS] a man does a hockey player hits himself [SEP]\n",
            "[CLS] a beautiful bigger slips into the air. [SEP]\n",
            "[CLS] a football player is displaying a stop by a baseball cap [SEP]\n"
          ]
        },
        {
          "data": {
            "text/html": [
              "<img src=\"https://38.media.tumblr.com/2734b982b9e741a1b3ba79b9764d6db1/tumblr_nnxwflsSCf1taa6bqo1_500.gif\"/>"
            ],
            "text/plain": [
              "<IPython.core.display.Image object>"
            ]
          },
          "metadata": {},
          "output_type": "display_data"
        },
        {
          "name": "stdout",
          "output_type": "stream",
          "text": [
            "ground label :  a white quickly moves back and forth on a bed. \n",
            "\n",
            "predicted : \n",
            " \n",
            "[CLS] a person is snowboarding along in bed. [SEP]\n",
            "[CLS] a large kitten sniffs while lying with its. [SEP]\n",
            "[CLS] a cat is sliding into a snow covered hill and jumps enclosure at each other with two men above. [SEP]\n",
            "[CLS] four beds are rolling by a snowy hill while snow piece of bed. [SEP]\n",
            "[CLS] a cat is cuddling with darking in a snowboard down. [SEP]\n",
            "[CLS] a sleepingmuns on the back of a bed. [SEP]\n",
            "[CLS] the white kittens are unleashed in bed and fall apart. [SEP]\n",
            "[CLS] a kittens are playing together and the dog [SEP]\n",
            "[CLS] a cat is being shot of while running [SEP]\n",
            "[CLS] a white kitten is jumping on a white towel [SEP]\n"
          ]
        },
        {
          "data": {
            "text/html": [
              "<img src=\"https://38.media.tumblr.com/7bf8d434fb6b7be78eafa716df327709/tumblr_no0sq6QbP81tyshtmo1_400.gif\"/>"
            ],
            "text/plain": [
              "<IPython.core.display.Image object>"
            ]
          },
          "metadata": {},
          "output_type": "display_data"
        },
        {
          "name": "stdout",
          "output_type": "stream",
          "text": [
            "ground label :  the man on myth busters does a dance by a target. \n",
            "\n",
            "predicted : \n",
            " \n",
            "[CLS] the man is giving a newspaper to an audience. [SEP]\n",
            "[CLS] a young man thinks to shield a drink in his hand while getting barbecue [SEP]\n",
            "[CLS] a man in a blue jacket pushes a young guy. [SEP]\n",
            "[CLS] a doctor is smiling and a fight. [SEP]\n",
            "[CLS] the man steps, stops and a touchdown while a barrier. [SEP]\n",
            "[CLS] a young man is taking a shot of outfits and laughing [SEP]\n",
            "[CLS] this is an angry man in a cape dancing on a white shirt and punches. [SEP]\n",
            "[CLS] a guy wearing a black shirt smiles and dancing. [SEP]\n",
            "[CLS] this shows three men and pretend to be winning and knocks them away [SEP]\n",
            "[CLS] a man with long dark hair is jumping around his body. [SEP]\n"
          ]
        },
        {
          "data": {
            "text/html": [
              "<img src=\"https://38.media.tumblr.com/7a2f08d184d41df7e73d89109f9b2471/tumblr_np5wfaHqCB1sta503o1_500.gif\"/>"
            ],
            "text/plain": [
              "<IPython.core.display.Image object>"
            ]
          },
          "metadata": {},
          "output_type": "display_data"
        },
        {
          "name": "stdout",
          "output_type": "stream",
          "text": [
            "ground label :  a boy are smoking a cigarette and thinking. \n",
            "\n",
            "predicted : \n",
            " \n",
            "[CLS] a sniper and a girl are smoking cigarettes [SEP]\n",
            "[CLS] a man and a woman sleep exhales a coffee. [SEP]\n",
            "[CLS] a man lying down grabs his large goggles around his away [SEP]\n",
            "[CLS] a young man and a white shirt is smiling while sitting in bed [SEP]\n",
            "[CLS] a man shoots his chin and beanie and a woman. [SEP]\n",
            "[CLS] a man inside a device to a woman [SEP]\n",
            "[CLS] a woman with dark hair is smoking a cigarette [SEP]\n",
            "[CLS] a cute girl is embracing the bed flirting with a cigarette [SEP]\n",
            "[CLS] a man is running embrace whilst laying down [SEP]\n",
            "[CLS] a woman wearing glasses is laughing with a long blonde hair. [SEP]\n"
          ]
        },
        {
          "data": {
            "text/html": [
              "<img src=\"https://38.media.tumblr.com/3d150b499112a18434ed3b1afbd78fa1/tumblr_nor6o63IRO1qfyg4po1_400.gif\"/>"
            ],
            "text/plain": [
              "<IPython.core.display.Image object>"
            ]
          },
          "metadata": {},
          "output_type": "display_data"
        },
        {
          "name": "stdout",
          "output_type": "stream",
          "text": [
            "ground label :  a girl is doing lots of poses. \n",
            "\n",
            "predicted : \n",
            " \n",
            "[CLS] a man smirks his arm around while sitting down. [SEP]\n",
            "[CLS] a girl wearing glasses is making gestures with his hands in her shoulders. [SEP]\n",
            "[CLS] a man speaks into space with a weak with his hands [SEP]\n",
            "[CLS] a girl wearing glasses and a white shirt is smiling. [SEP]\n",
            "[CLS] a man is wrapping his head movements with his hands. [SEP]\n",
            "[CLS] a man with a crown holds her face in her face and smoke too on her face. [SEP]\n",
            "[CLS] a man sits in a jacket is rubbing his hair around his hands [SEP]\n",
            "[CLS] a blonde haired woman is touching her face. [SEP]\n",
            "[CLS] a man is swaying his t - shirt off his clock and moves [SEP]\n",
            "[CLS] a frightened woman with a white couch is smiling and other people [SEP]\n"
          ]
        },
        {
          "data": {
            "text/html": [
              "<img src=\"https://38.media.tumblr.com/68ba678739261a37bee029bdc4d18efa/tumblr_nonktucTD81t4bgb2o1_540.gif\"/>"
            ],
            "text/plain": [
              "<IPython.core.display.Image object>"
            ]
          },
          "metadata": {},
          "output_type": "display_data"
        },
        {
          "name": "stdout",
          "output_type": "stream",
          "text": [
            "ground label :  a man with scary masks smokes the mouth \n",
            "\n",
            "predicted : \n",
            " \n",
            "[CLS] a woman at a table says bullet takes a cigarette and smoking [SEP]\n",
            "[CLS] a long haired man is dancing on stage with a pipe [SEP]\n",
            "[CLS] a musician sings to a microphone turns his head around. [SEP]\n",
            "[CLS] a rock star is playing instrument and then singing. [SEP]\n",
            "[CLS] a man is dancing around a show. [SEP]\n",
            "[CLS] a music band is playing music while a crowd to play on a microphone. [SEP]\n",
            "[CLS] a guitarist is playing a guitar while the drums [SEP]\n",
            "[CLS] a musician is dancing very far around a crowd [SEP]\n",
            "[CLS] a musician is playing their guitar on stage during a song [SEP]\n",
            "[CLS] a man in the air is giving thumbs up his guitar. [SEP]\n"
          ]
        }
      ],
      "source": [
        "\n",
        "torch.cuda.empty_cache()\n",
        "block_size=31\n",
        "model = Transformer()\n",
        "\n",
        "model_path = '/content/drive/My Drive/video_captionning/model_weights_light_v3_fixed.pt'\n",
        "model.load_state_dict(torch.load(model_path))\n",
        "\n",
        "m = model.to(device)\n",
        "print(sum(p.numel() for p in m.parameters())/1e6, 'M parameters')\n",
        "with torch.no_grad():\n",
        "    context = torch.full((1, 1),101, device=device)\n",
        "from IPython.display import Image,display\n",
        "import random\n",
        "num=17\n",
        "for num in random.sample(range(1500),20):\n",
        "    display(Image(url=x[num]))\n",
        "    print(f\"ground label :  {y_inter[num]} \\n\")\n",
        "    print(\"predicted : \\n \")\n",
        "    for i in range(10):\n",
        "        print(tokenizer.decode(m.generate(padded_x[num].unsqueeze(0),context, max_new_tokens=40)[0].tolist()))"
      ]
    },
    {
      "cell_type": "markdown",
      "metadata": {
        "id": "UiaoJRBgJQaN"
      },
      "source": [
        "# msrvtt"
      ]
    },
    {
      "cell_type": "code",
      "execution_count": null,
      "metadata": {
        "colab": {
          "base_uri": "https://localhost:8080/",
          "height": 245
        },
        "id": "7-_BhjhYZfvp",
        "outputId": "03ee9bb7-a815-4306-efbe-3d82a4665236"
      },
      "outputs": [
        {
          "name": "stdout",
          "output_type": "stream",
          "text": [
            "False\n",
            "Extracted 0 frames \n"
          ]
        },
        {
          "ename": "IndexError",
          "evalue": "list index out of range",
          "output_type": "error",
          "traceback": [
            "\u001b[0;31m---------------------------------------------------------------------------\u001b[0m",
            "\u001b[0;31mIndexError\u001b[0m                                Traceback (most recent call last)",
            "\u001b[0;32m<ipython-input-131-eb4d26971274>\u001b[0m in \u001b[0;36m<cell line: 24>\u001b[0;34m()\u001b[0m\n\u001b[1;32m     22\u001b[0m \u001b[0mframes\u001b[0m\u001b[0;34m=\u001b[0m\u001b[0mextract_frames\u001b[0m\u001b[0;34m(\u001b[0m\u001b[0;34m'https://www.youtube.com/watch?v=DzUc3Eqzzos&ab_channel=Movieclips'\u001b[0m\u001b[0;34m)\u001b[0m\u001b[0;34m\u001b[0m\u001b[0;34m\u001b[0m\u001b[0m\n\u001b[1;32m     23\u001b[0m \u001b[0mplt\u001b[0m\u001b[0;34m.\u001b[0m\u001b[0mfigure\u001b[0m\u001b[0;34m(\u001b[0m\u001b[0;34m)\u001b[0m\u001b[0;34m\u001b[0m\u001b[0;34m\u001b[0m\u001b[0m\n\u001b[0;32m---> 24\u001b[0;31m \u001b[0mplt\u001b[0m\u001b[0;34m.\u001b[0m\u001b[0mimshow\u001b[0m\u001b[0;34m(\u001b[0m\u001b[0mframes\u001b[0m\u001b[0;34m[\u001b[0m\u001b[0;36m16\u001b[0m\u001b[0;34m]\u001b[0m\u001b[0;34m.\u001b[0m\u001b[0mconvert\u001b[0m\u001b[0;34m(\u001b[0m\u001b[0;34m'RGB'\u001b[0m\u001b[0;34m)\u001b[0m\u001b[0;34m)\u001b[0m\u001b[0;34m\u001b[0m\u001b[0;34m\u001b[0m\u001b[0m\n\u001b[0m\u001b[1;32m     25\u001b[0m \u001b[0mplt\u001b[0m\u001b[0;34m.\u001b[0m\u001b[0mshow\u001b[0m\u001b[0;34m(\u001b[0m\u001b[0;34m)\u001b[0m\u001b[0;34m\u001b[0m\u001b[0;34m\u001b[0m\u001b[0m\n",
            "\u001b[0;31mIndexError\u001b[0m: list index out of range"
          ]
        },
        {
          "data": {
            "text/plain": [
              "<Figure size 640x480 with 0 Axes>"
            ]
          },
          "metadata": {},
          "output_type": "display_data"
        }
      ],
      "source": [
        "import matplotlib.pyplot as plt\n",
        "import cv2\n",
        "import os\n",
        "def extract_frames(video_path):\n",
        "\n",
        "\n",
        "    # Open the video file\n",
        "    video = cv2.VideoCapture(video_path)\n",
        "    success, image = video.read()\n",
        "    print(success)\n",
        "    count = 0\n",
        "    frames=[]\n",
        "    while success:\n",
        "\n",
        "        frames.append(Image.fromarray(image))\n",
        "        # Save the frame as an image\n",
        "        success, image = video.read()\n",
        "        count += 1\n",
        "    video.release()\n",
        "    print(f\"Extracted {count} frames \")\n",
        "    return frames\n",
        "frames=extract_frames('https://www.youtube.com/watch?v=DzUc3Eqzzos&ab_channel=Movieclips')\n",
        "plt.figure()\n",
        "plt.imshow(frames[16].convert('RGB'))\n",
        "plt.show()"
      ]
    },
    {
      "cell_type": "code",
      "execution_count": null,
      "metadata": {
        "colab": {
          "base_uri": "https://localhost:8080/"
        },
        "id": "glqY0iQAdaUy",
        "outputId": "a2103493-a372-4744-8394-03c8d188b012"
      },
      "outputs": [
        {
          "name": "stdout",
          "output_type": "stream",
          "text": [
            "<class 'numpy.ndarray'>\n"
          ]
        }
      ],
      "source": [
        "print(type(frames[0]))"
      ]
    },
    {
      "cell_type": "code",
      "execution_count": null,
      "metadata": {
        "colab": {
          "base_uri": "https://localhost:8080/"
        },
        "id": "mdBSTngJdDqz",
        "outputId": "74186e03-2b3b-495b-d9fd-a92a65711f91"
      },
      "outputs": [
        {
          "name": "stdout",
          "output_type": "stream",
          "text": [
            "torch.Size([16, 512])\n",
            "torch.Size([16, 512])\n",
            "torch.Size([16, 512])\n",
            "torch.Size([16, 512])\n",
            "torch.Size([16, 512])\n",
            "torch.Size([16, 512])\n",
            "torch.Size([16, 512])\n",
            "torch.Size([16, 512])\n",
            "torch.Size([16, 512])\n",
            "torch.Size([16, 512])\n",
            "torch.Size([16, 512])\n",
            "torch.Size([16, 512])\n",
            "torch.Size([16, 512])\n",
            "torch.Size([16, 512])\n",
            "torch.Size([16, 512])\n",
            "torch.Size([16, 512])\n",
            "torch.Size([16, 512])\n",
            "torch.Size([16, 512])\n",
            "torch.Size([16, 512])\n",
            "torch.Size([16, 512])\n"
          ]
        }
      ],
      "source": [
        "step=len(frames)//320\n",
        "segments=[]\n",
        "for k in range(20):\n",
        "    frame_embeddings = torch.stack([(preprocess(frames[i*step+k*16*step])) for i in range(16)])\n",
        "\n",
        "    frame_embeddings=frame_embeddings.to(device)\n",
        "    frame_embeddings = cnn(frame_embeddings).squeeze()\n",
        "    print(frame_embeddings.shape)\n",
        "    segments.append(frame_embeddings)"
      ]
    },
    {
      "cell_type": "code",
      "execution_count": null,
      "metadata": {
        "colab": {
          "base_uri": "https://localhost:8080/"
        },
        "id": "sKFgO-EocQ2x",
        "outputId": "52e7fab6-afc9-4483-9dbd-87dd205454c0"
      },
      "outputs": [
        {
          "name": "stdout",
          "output_type": "stream",
          "text": [
            "segment number 0 : [CLS] a girl is on the floor and brushing her hair from her coat [SEP]\n",
            "segment number 1 : [CLS] a blond haired girl is he sees something. [SEP]\n",
            "segment number 2 : [CLS] two people sat and one of them falls to the side of them look upset. [SEP]\n",
            "segment number 3 : [CLS] a guy is pretending to be someone and looks down. [SEP]\n",
            "segment number 4 : [CLS] two people with sunglasses are turns to look downward [SEP]\n",
            "segment number 5 : [CLS] the man in a leather jacket walks out and embrace [SEP]\n",
            "segment number 6 : [CLS] two people enjoy one with their foreheads raised lights [SEP]\n",
            "segment number 7 : [CLS] a man in a red stand next to a woman and dr turning her head to a man [SEP]\n",
            "segment number 8 : [CLS] a young man is tilts his head up around [SEP]\n",
            "segment number 9 : [CLS] a woman is sitting on a bed and fixing her hood and he approaches her legs [SEP]\n",
            "segment number 10 : [CLS] a woman wearing ice stage smiles and turns her head slightly [SEP]\n",
            "segment number 11 : [CLS] a man and a woman are eating in a closet. [SEP]\n",
            "segment number 12 : [CLS] a blond woman in a white shirt walks away and walks away from her [SEP]\n",
            "segment number 13 : [CLS] bunch of four different guys are hailion weird faces. [SEP]\n",
            "segment number 14 : [CLS] a man is singing and dancing when walks away. [SEP]\n",
            "segment number 15 : [CLS] a blonde haired woman raises her middle finger. [SEP]\n",
            "segment number 16 : [CLS] a man is playing guitar and dancing as the girl turns around to him in the background are sitting on tv. [SEP]\n",
            "segment number 17 : [CLS] people bobbing on stage are running around men. [SEP]\n",
            "segment number 18 : [CLS] a musician smiles during a f1 outside during a race [SEP]\n",
            "segment number 19 : [CLS] cheerleader car moves both of a racetrack. [SEP]\n"
          ]
        }
      ],
      "source": [
        "for i,segment in enumerate(segments):\n",
        "    print(f\"segment number {i} : {tokenizer.decode(m.generate(segment.unsqueeze(0),context, max_new_tokens=40)[0].tolist())}\")\n",
        "\n",
        "\n",
        "# plt.figure()\n",
        "# plt.imshow(frames[500].convert('RGB'))\n",
        "# plt.show()"
      ]
    }
  ],
  "metadata": {
    "accelerator": "GPU",
    "colab": {
      "gpuType": "T4",
      "provenance": []
    },
    "kernelspec": {
      "display_name": "Python 3",
      "name": "python3"
    },
    "language_info": {
      "name": "python"
    },
    "widgets": {
      "application/vnd.jupyter.widget-state+json": {
        "08e97d37a9d249dd8eacef628e05bef7": {
          "model_module": "@jupyter-widgets/controls",
          "model_module_version": "1.5.0",
          "model_name": "HTMLModel",
          "state": {
            "_dom_classes": [],
            "_model_module": "@jupyter-widgets/controls",
            "_model_module_version": "1.5.0",
            "_model_name": "HTMLModel",
            "_view_count": null,
            "_view_module": "@jupyter-widgets/controls",
            "_view_module_version": "1.5.0",
            "_view_name": "HTMLView",
            "description": "",
            "description_tooltip": null,
            "layout": "IPY_MODEL_92e785c3be9b46be86876c64751d4fd3",
            "placeholder": "​",
            "style": "IPY_MODEL_a7c96fda058e49d7b071554c9713dd2a",
            "value": "config.json: 100%"
          }
        },
        "0ec4e74eb0d04c0c852313a34c3e905c": {
          "model_module": "@jupyter-widgets/base",
          "model_module_version": "1.2.0",
          "model_name": "LayoutModel",
          "state": {
            "_model_module": "@jupyter-widgets/base",
            "_model_module_version": "1.2.0",
            "_model_name": "LayoutModel",
            "_view_count": null,
            "_view_module": "@jupyter-widgets/base",
            "_view_module_version": "1.2.0",
            "_view_name": "LayoutView",
            "align_content": null,
            "align_items": null,
            "align_self": null,
            "border": null,
            "bottom": null,
            "display": null,
            "flex": null,
            "flex_flow": null,
            "grid_area": null,
            "grid_auto_columns": null,
            "grid_auto_flow": null,
            "grid_auto_rows": null,
            "grid_column": null,
            "grid_gap": null,
            "grid_row": null,
            "grid_template_areas": null,
            "grid_template_columns": null,
            "grid_template_rows": null,
            "height": null,
            "justify_content": null,
            "justify_items": null,
            "left": null,
            "margin": null,
            "max_height": null,
            "max_width": null,
            "min_height": null,
            "min_width": null,
            "object_fit": null,
            "object_position": null,
            "order": null,
            "overflow": null,
            "overflow_x": null,
            "overflow_y": null,
            "padding": null,
            "right": null,
            "top": null,
            "visibility": null,
            "width": null
          }
        },
        "17ce8a47235849b1978ed1535048d821": {
          "model_module": "@jupyter-widgets/controls",
          "model_module_version": "1.5.0",
          "model_name": "DescriptionStyleModel",
          "state": {
            "_model_module": "@jupyter-widgets/controls",
            "_model_module_version": "1.5.0",
            "_model_name": "DescriptionStyleModel",
            "_view_count": null,
            "_view_module": "@jupyter-widgets/base",
            "_view_module_version": "1.2.0",
            "_view_name": "StyleView",
            "description_width": ""
          }
        },
        "23fde0e7457e4070931dc3f5be6c1d3b": {
          "model_module": "@jupyter-widgets/base",
          "model_module_version": "1.2.0",
          "model_name": "LayoutModel",
          "state": {
            "_model_module": "@jupyter-widgets/base",
            "_model_module_version": "1.2.0",
            "_model_name": "LayoutModel",
            "_view_count": null,
            "_view_module": "@jupyter-widgets/base",
            "_view_module_version": "1.2.0",
            "_view_name": "LayoutView",
            "align_content": null,
            "align_items": null,
            "align_self": null,
            "border": null,
            "bottom": null,
            "display": null,
            "flex": null,
            "flex_flow": null,
            "grid_area": null,
            "grid_auto_columns": null,
            "grid_auto_flow": null,
            "grid_auto_rows": null,
            "grid_column": null,
            "grid_gap": null,
            "grid_row": null,
            "grid_template_areas": null,
            "grid_template_columns": null,
            "grid_template_rows": null,
            "height": null,
            "justify_content": null,
            "justify_items": null,
            "left": null,
            "margin": null,
            "max_height": null,
            "max_width": null,
            "min_height": null,
            "min_width": null,
            "object_fit": null,
            "object_position": null,
            "order": null,
            "overflow": null,
            "overflow_x": null,
            "overflow_y": null,
            "padding": null,
            "right": null,
            "top": null,
            "visibility": null,
            "width": null
          }
        },
        "28110df525f64eb581cb8fa7838a747f": {
          "model_module": "@jupyter-widgets/controls",
          "model_module_version": "1.5.0",
          "model_name": "DescriptionStyleModel",
          "state": {
            "_model_module": "@jupyter-widgets/controls",
            "_model_module_version": "1.5.0",
            "_model_name": "DescriptionStyleModel",
            "_view_count": null,
            "_view_module": "@jupyter-widgets/base",
            "_view_module_version": "1.2.0",
            "_view_name": "StyleView",
            "description_width": ""
          }
        },
        "29e9cbdb1ca04ee9b64ce720e2b8b725": {
          "model_module": "@jupyter-widgets/controls",
          "model_module_version": "1.5.0",
          "model_name": "HTMLModel",
          "state": {
            "_dom_classes": [],
            "_model_module": "@jupyter-widgets/controls",
            "_model_module_version": "1.5.0",
            "_model_name": "HTMLModel",
            "_view_count": null,
            "_view_module": "@jupyter-widgets/controls",
            "_view_module_version": "1.5.0",
            "_view_name": "HTMLView",
            "description": "",
            "description_tooltip": null,
            "layout": "IPY_MODEL_3b9b15ba8f1645b5b9fe6bf02e68d1f7",
            "placeholder": "​",
            "style": "IPY_MODEL_17ce8a47235849b1978ed1535048d821",
            "value": " 570/570 [00:00&lt;00:00, 10.5kB/s]"
          }
        },
        "313602eb13824faea74f7d9a4553aedc": {
          "model_module": "@jupyter-widgets/base",
          "model_module_version": "1.2.0",
          "model_name": "LayoutModel",
          "state": {
            "_model_module": "@jupyter-widgets/base",
            "_model_module_version": "1.2.0",
            "_model_name": "LayoutModel",
            "_view_count": null,
            "_view_module": "@jupyter-widgets/base",
            "_view_module_version": "1.2.0",
            "_view_name": "LayoutView",
            "align_content": null,
            "align_items": null,
            "align_self": null,
            "border": null,
            "bottom": null,
            "display": null,
            "flex": null,
            "flex_flow": null,
            "grid_area": null,
            "grid_auto_columns": null,
            "grid_auto_flow": null,
            "grid_auto_rows": null,
            "grid_column": null,
            "grid_gap": null,
            "grid_row": null,
            "grid_template_areas": null,
            "grid_template_columns": null,
            "grid_template_rows": null,
            "height": null,
            "justify_content": null,
            "justify_items": null,
            "left": null,
            "margin": null,
            "max_height": null,
            "max_width": null,
            "min_height": null,
            "min_width": null,
            "object_fit": null,
            "object_position": null,
            "order": null,
            "overflow": null,
            "overflow_x": null,
            "overflow_y": null,
            "padding": null,
            "right": null,
            "top": null,
            "visibility": null,
            "width": null
          }
        },
        "34dcf8e726e34833b3c8f91f2c217520": {
          "model_module": "@jupyter-widgets/base",
          "model_module_version": "1.2.0",
          "model_name": "LayoutModel",
          "state": {
            "_model_module": "@jupyter-widgets/base",
            "_model_module_version": "1.2.0",
            "_model_name": "LayoutModel",
            "_view_count": null,
            "_view_module": "@jupyter-widgets/base",
            "_view_module_version": "1.2.0",
            "_view_name": "LayoutView",
            "align_content": null,
            "align_items": null,
            "align_self": null,
            "border": null,
            "bottom": null,
            "display": null,
            "flex": null,
            "flex_flow": null,
            "grid_area": null,
            "grid_auto_columns": null,
            "grid_auto_flow": null,
            "grid_auto_rows": null,
            "grid_column": null,
            "grid_gap": null,
            "grid_row": null,
            "grid_template_areas": null,
            "grid_template_columns": null,
            "grid_template_rows": null,
            "height": null,
            "justify_content": null,
            "justify_items": null,
            "left": null,
            "margin": null,
            "max_height": null,
            "max_width": null,
            "min_height": null,
            "min_width": null,
            "object_fit": null,
            "object_position": null,
            "order": null,
            "overflow": null,
            "overflow_x": null,
            "overflow_y": null,
            "padding": null,
            "right": null,
            "top": null,
            "visibility": null,
            "width": null
          }
        },
        "38736743e67c48c78aa7bd9fde9e1546": {
          "model_module": "@jupyter-widgets/controls",
          "model_module_version": "1.5.0",
          "model_name": "HBoxModel",
          "state": {
            "_dom_classes": [],
            "_model_module": "@jupyter-widgets/controls",
            "_model_module_version": "1.5.0",
            "_model_name": "HBoxModel",
            "_view_count": null,
            "_view_module": "@jupyter-widgets/controls",
            "_view_module_version": "1.5.0",
            "_view_name": "HBoxView",
            "box_style": "",
            "children": [
              "IPY_MODEL_6af035bb45464b76be152d3f9276258b",
              "IPY_MODEL_b8d011576ae14652b281303c777aa853",
              "IPY_MODEL_a46aac1fa335434491d10a62517ee669"
            ],
            "layout": "IPY_MODEL_bf4cdc07d0c240c0b92bd4e56ea9f92f"
          }
        },
        "399441daf6e0410183fcffe662d8791e": {
          "model_module": "@jupyter-widgets/controls",
          "model_module_version": "1.5.0",
          "model_name": "HBoxModel",
          "state": {
            "_dom_classes": [],
            "_model_module": "@jupyter-widgets/controls",
            "_model_module_version": "1.5.0",
            "_model_name": "HBoxModel",
            "_view_count": null,
            "_view_module": "@jupyter-widgets/controls",
            "_view_module_version": "1.5.0",
            "_view_name": "HBoxView",
            "box_style": "",
            "children": [
              "IPY_MODEL_08e97d37a9d249dd8eacef628e05bef7",
              "IPY_MODEL_9b8c195657d845af9516a1373e87fc4d",
              "IPY_MODEL_29e9cbdb1ca04ee9b64ce720e2b8b725"
            ],
            "layout": "IPY_MODEL_b531e4773efe445c989ebc68e29d8223"
          }
        },
        "3b9b15ba8f1645b5b9fe6bf02e68d1f7": {
          "model_module": "@jupyter-widgets/base",
          "model_module_version": "1.2.0",
          "model_name": "LayoutModel",
          "state": {
            "_model_module": "@jupyter-widgets/base",
            "_model_module_version": "1.2.0",
            "_model_name": "LayoutModel",
            "_view_count": null,
            "_view_module": "@jupyter-widgets/base",
            "_view_module_version": "1.2.0",
            "_view_name": "LayoutView",
            "align_content": null,
            "align_items": null,
            "align_self": null,
            "border": null,
            "bottom": null,
            "display": null,
            "flex": null,
            "flex_flow": null,
            "grid_area": null,
            "grid_auto_columns": null,
            "grid_auto_flow": null,
            "grid_auto_rows": null,
            "grid_column": null,
            "grid_gap": null,
            "grid_row": null,
            "grid_template_areas": null,
            "grid_template_columns": null,
            "grid_template_rows": null,
            "height": null,
            "justify_content": null,
            "justify_items": null,
            "left": null,
            "margin": null,
            "max_height": null,
            "max_width": null,
            "min_height": null,
            "min_width": null,
            "object_fit": null,
            "object_position": null,
            "order": null,
            "overflow": null,
            "overflow_x": null,
            "overflow_y": null,
            "padding": null,
            "right": null,
            "top": null,
            "visibility": null,
            "width": null
          }
        },
        "42883399d23f41fa874033b7a6acb681": {
          "model_module": "@jupyter-widgets/base",
          "model_module_version": "1.2.0",
          "model_name": "LayoutModel",
          "state": {
            "_model_module": "@jupyter-widgets/base",
            "_model_module_version": "1.2.0",
            "_model_name": "LayoutModel",
            "_view_count": null,
            "_view_module": "@jupyter-widgets/base",
            "_view_module_version": "1.2.0",
            "_view_name": "LayoutView",
            "align_content": null,
            "align_items": null,
            "align_self": null,
            "border": null,
            "bottom": null,
            "display": null,
            "flex": null,
            "flex_flow": null,
            "grid_area": null,
            "grid_auto_columns": null,
            "grid_auto_flow": null,
            "grid_auto_rows": null,
            "grid_column": null,
            "grid_gap": null,
            "grid_row": null,
            "grid_template_areas": null,
            "grid_template_columns": null,
            "grid_template_rows": null,
            "height": null,
            "justify_content": null,
            "justify_items": null,
            "left": null,
            "margin": null,
            "max_height": null,
            "max_width": null,
            "min_height": null,
            "min_width": null,
            "object_fit": null,
            "object_position": null,
            "order": null,
            "overflow": null,
            "overflow_x": null,
            "overflow_y": null,
            "padding": null,
            "right": null,
            "top": null,
            "visibility": null,
            "width": null
          }
        },
        "4929a0fbacbc45bba9eb23d4127f83cb": {
          "model_module": "@jupyter-widgets/controls",
          "model_module_version": "1.5.0",
          "model_name": "FloatProgressModel",
          "state": {
            "_dom_classes": [],
            "_model_module": "@jupyter-widgets/controls",
            "_model_module_version": "1.5.0",
            "_model_name": "FloatProgressModel",
            "_view_count": null,
            "_view_module": "@jupyter-widgets/controls",
            "_view_module_version": "1.5.0",
            "_view_name": "ProgressView",
            "bar_style": "success",
            "description": "",
            "description_tooltip": null,
            "layout": "IPY_MODEL_313602eb13824faea74f7d9a4553aedc",
            "max": 48,
            "min": 0,
            "orientation": "horizontal",
            "style": "IPY_MODEL_b168ee3a149849b28aedc98b49dc9292",
            "value": 48
          }
        },
        "62688211c6b1404893ed7488983139bd": {
          "model_module": "@jupyter-widgets/base",
          "model_module_version": "1.2.0",
          "model_name": "LayoutModel",
          "state": {
            "_model_module": "@jupyter-widgets/base",
            "_model_module_version": "1.2.0",
            "_model_name": "LayoutModel",
            "_view_count": null,
            "_view_module": "@jupyter-widgets/base",
            "_view_module_version": "1.2.0",
            "_view_name": "LayoutView",
            "align_content": null,
            "align_items": null,
            "align_self": null,
            "border": null,
            "bottom": null,
            "display": null,
            "flex": null,
            "flex_flow": null,
            "grid_area": null,
            "grid_auto_columns": null,
            "grid_auto_flow": null,
            "grid_auto_rows": null,
            "grid_column": null,
            "grid_gap": null,
            "grid_row": null,
            "grid_template_areas": null,
            "grid_template_columns": null,
            "grid_template_rows": null,
            "height": null,
            "justify_content": null,
            "justify_items": null,
            "left": null,
            "margin": null,
            "max_height": null,
            "max_width": null,
            "min_height": null,
            "min_width": null,
            "object_fit": null,
            "object_position": null,
            "order": null,
            "overflow": null,
            "overflow_x": null,
            "overflow_y": null,
            "padding": null,
            "right": null,
            "top": null,
            "visibility": null,
            "width": null
          }
        },
        "6af035bb45464b76be152d3f9276258b": {
          "model_module": "@jupyter-widgets/controls",
          "model_module_version": "1.5.0",
          "model_name": "HTMLModel",
          "state": {
            "_dom_classes": [],
            "_model_module": "@jupyter-widgets/controls",
            "_model_module_version": "1.5.0",
            "_model_name": "HTMLModel",
            "_view_count": null,
            "_view_module": "@jupyter-widgets/controls",
            "_view_module_version": "1.5.0",
            "_view_name": "HTMLView",
            "description": "",
            "description_tooltip": null,
            "layout": "IPY_MODEL_bb19c6e25eb34f1d9ce25b689e1e1102",
            "placeholder": "​",
            "style": "IPY_MODEL_a83ef4a4683a45aa8b636e38063d0c9d",
            "value": "tokenizer.json: 100%"
          }
        },
        "6b8df5df1e6649ddbefecdc58478c812": {
          "model_module": "@jupyter-widgets/base",
          "model_module_version": "1.2.0",
          "model_name": "LayoutModel",
          "state": {
            "_model_module": "@jupyter-widgets/base",
            "_model_module_version": "1.2.0",
            "_model_name": "LayoutModel",
            "_view_count": null,
            "_view_module": "@jupyter-widgets/base",
            "_view_module_version": "1.2.0",
            "_view_name": "LayoutView",
            "align_content": null,
            "align_items": null,
            "align_self": null,
            "border": null,
            "bottom": null,
            "display": null,
            "flex": null,
            "flex_flow": null,
            "grid_area": null,
            "grid_auto_columns": null,
            "grid_auto_flow": null,
            "grid_auto_rows": null,
            "grid_column": null,
            "grid_gap": null,
            "grid_row": null,
            "grid_template_areas": null,
            "grid_template_columns": null,
            "grid_template_rows": null,
            "height": null,
            "justify_content": null,
            "justify_items": null,
            "left": null,
            "margin": null,
            "max_height": null,
            "max_width": null,
            "min_height": null,
            "min_width": null,
            "object_fit": null,
            "object_position": null,
            "order": null,
            "overflow": null,
            "overflow_x": null,
            "overflow_y": null,
            "padding": null,
            "right": null,
            "top": null,
            "visibility": null,
            "width": null
          }
        },
        "6c19142b3ae94f49b03a633e6c56a9d4": {
          "model_module": "@jupyter-widgets/controls",
          "model_module_version": "1.5.0",
          "model_name": "HTMLModel",
          "state": {
            "_dom_classes": [],
            "_model_module": "@jupyter-widgets/controls",
            "_model_module_version": "1.5.0",
            "_model_name": "HTMLModel",
            "_view_count": null,
            "_view_module": "@jupyter-widgets/controls",
            "_view_module_version": "1.5.0",
            "_view_name": "HTMLView",
            "description": "",
            "description_tooltip": null,
            "layout": "IPY_MODEL_c1171f1f5ab84af69b71b19dacae33b5",
            "placeholder": "​",
            "style": "IPY_MODEL_c31ba72046db479386f121e64fd678b8",
            "value": "vocab.txt: 100%"
          }
        },
        "7082a4454d1945dea69845c505edc773": {
          "model_module": "@jupyter-widgets/controls",
          "model_module_version": "1.5.0",
          "model_name": "HTMLModel",
          "state": {
            "_dom_classes": [],
            "_model_module": "@jupyter-widgets/controls",
            "_model_module_version": "1.5.0",
            "_model_name": "HTMLModel",
            "_view_count": null,
            "_view_module": "@jupyter-widgets/controls",
            "_view_module_version": "1.5.0",
            "_view_name": "HTMLView",
            "description": "",
            "description_tooltip": null,
            "layout": "IPY_MODEL_34dcf8e726e34833b3c8f91f2c217520",
            "placeholder": "​",
            "style": "IPY_MODEL_d8a5731a948f44e3bd5fed129df812d5",
            "value": "tokenizer_config.json: 100%"
          }
        },
        "7a4921296f944be5a7a7cbd2bf6a0dc3": {
          "model_module": "@jupyter-widgets/controls",
          "model_module_version": "1.5.0",
          "model_name": "FloatProgressModel",
          "state": {
            "_dom_classes": [],
            "_model_module": "@jupyter-widgets/controls",
            "_model_module_version": "1.5.0",
            "_model_name": "FloatProgressModel",
            "_view_count": null,
            "_view_module": "@jupyter-widgets/controls",
            "_view_module_version": "1.5.0",
            "_view_name": "ProgressView",
            "bar_style": "success",
            "description": "",
            "description_tooltip": null,
            "layout": "IPY_MODEL_42883399d23f41fa874033b7a6acb681",
            "max": 231508,
            "min": 0,
            "orientation": "horizontal",
            "style": "IPY_MODEL_c83f944e569149e6bf3b88c5c81720a2",
            "value": 231508
          }
        },
        "84e59dc3eee642a7adbb282057bd2cbe": {
          "model_module": "@jupyter-widgets/base",
          "model_module_version": "1.2.0",
          "model_name": "LayoutModel",
          "state": {
            "_model_module": "@jupyter-widgets/base",
            "_model_module_version": "1.2.0",
            "_model_name": "LayoutModel",
            "_view_count": null,
            "_view_module": "@jupyter-widgets/base",
            "_view_module_version": "1.2.0",
            "_view_name": "LayoutView",
            "align_content": null,
            "align_items": null,
            "align_self": null,
            "border": null,
            "bottom": null,
            "display": null,
            "flex": null,
            "flex_flow": null,
            "grid_area": null,
            "grid_auto_columns": null,
            "grid_auto_flow": null,
            "grid_auto_rows": null,
            "grid_column": null,
            "grid_gap": null,
            "grid_row": null,
            "grid_template_areas": null,
            "grid_template_columns": null,
            "grid_template_rows": null,
            "height": null,
            "justify_content": null,
            "justify_items": null,
            "left": null,
            "margin": null,
            "max_height": null,
            "max_width": null,
            "min_height": null,
            "min_width": null,
            "object_fit": null,
            "object_position": null,
            "order": null,
            "overflow": null,
            "overflow_x": null,
            "overflow_y": null,
            "padding": null,
            "right": null,
            "top": null,
            "visibility": null,
            "width": null
          }
        },
        "8a8e5bdabe9b4492b5898b8140e8ce95": {
          "model_module": "@jupyter-widgets/controls",
          "model_module_version": "1.5.0",
          "model_name": "HTMLModel",
          "state": {
            "_dom_classes": [],
            "_model_module": "@jupyter-widgets/controls",
            "_model_module_version": "1.5.0",
            "_model_name": "HTMLModel",
            "_view_count": null,
            "_view_module": "@jupyter-widgets/controls",
            "_view_module_version": "1.5.0",
            "_view_name": "HTMLView",
            "description": "",
            "description_tooltip": null,
            "layout": "IPY_MODEL_d78d312b88b54b2bb43a7f89b857a148",
            "placeholder": "​",
            "style": "IPY_MODEL_8dc023e761cf4a2b853823e3f7cb3a4c",
            "value": " 232k/232k [00:00&lt;00:00, 9.12MB/s]"
          }
        },
        "8dc023e761cf4a2b853823e3f7cb3a4c": {
          "model_module": "@jupyter-widgets/controls",
          "model_module_version": "1.5.0",
          "model_name": "DescriptionStyleModel",
          "state": {
            "_model_module": "@jupyter-widgets/controls",
            "_model_module_version": "1.5.0",
            "_model_name": "DescriptionStyleModel",
            "_view_count": null,
            "_view_module": "@jupyter-widgets/base",
            "_view_module_version": "1.2.0",
            "_view_name": "StyleView",
            "description_width": ""
          }
        },
        "92e785c3be9b46be86876c64751d4fd3": {
          "model_module": "@jupyter-widgets/base",
          "model_module_version": "1.2.0",
          "model_name": "LayoutModel",
          "state": {
            "_model_module": "@jupyter-widgets/base",
            "_model_module_version": "1.2.0",
            "_model_name": "LayoutModel",
            "_view_count": null,
            "_view_module": "@jupyter-widgets/base",
            "_view_module_version": "1.2.0",
            "_view_name": "LayoutView",
            "align_content": null,
            "align_items": null,
            "align_self": null,
            "border": null,
            "bottom": null,
            "display": null,
            "flex": null,
            "flex_flow": null,
            "grid_area": null,
            "grid_auto_columns": null,
            "grid_auto_flow": null,
            "grid_auto_rows": null,
            "grid_column": null,
            "grid_gap": null,
            "grid_row": null,
            "grid_template_areas": null,
            "grid_template_columns": null,
            "grid_template_rows": null,
            "height": null,
            "justify_content": null,
            "justify_items": null,
            "left": null,
            "margin": null,
            "max_height": null,
            "max_width": null,
            "min_height": null,
            "min_width": null,
            "object_fit": null,
            "object_position": null,
            "order": null,
            "overflow": null,
            "overflow_x": null,
            "overflow_y": null,
            "padding": null,
            "right": null,
            "top": null,
            "visibility": null,
            "width": null
          }
        },
        "9809209dd63f4c8eb03d7844afcce483": {
          "model_module": "@jupyter-widgets/base",
          "model_module_version": "1.2.0",
          "model_name": "LayoutModel",
          "state": {
            "_model_module": "@jupyter-widgets/base",
            "_model_module_version": "1.2.0",
            "_model_name": "LayoutModel",
            "_view_count": null,
            "_view_module": "@jupyter-widgets/base",
            "_view_module_version": "1.2.0",
            "_view_name": "LayoutView",
            "align_content": null,
            "align_items": null,
            "align_self": null,
            "border": null,
            "bottom": null,
            "display": null,
            "flex": null,
            "flex_flow": null,
            "grid_area": null,
            "grid_auto_columns": null,
            "grid_auto_flow": null,
            "grid_auto_rows": null,
            "grid_column": null,
            "grid_gap": null,
            "grid_row": null,
            "grid_template_areas": null,
            "grid_template_columns": null,
            "grid_template_rows": null,
            "height": null,
            "justify_content": null,
            "justify_items": null,
            "left": null,
            "margin": null,
            "max_height": null,
            "max_width": null,
            "min_height": null,
            "min_width": null,
            "object_fit": null,
            "object_position": null,
            "order": null,
            "overflow": null,
            "overflow_x": null,
            "overflow_y": null,
            "padding": null,
            "right": null,
            "top": null,
            "visibility": null,
            "width": null
          }
        },
        "9b8c195657d845af9516a1373e87fc4d": {
          "model_module": "@jupyter-widgets/controls",
          "model_module_version": "1.5.0",
          "model_name": "FloatProgressModel",
          "state": {
            "_dom_classes": [],
            "_model_module": "@jupyter-widgets/controls",
            "_model_module_version": "1.5.0",
            "_model_name": "FloatProgressModel",
            "_view_count": null,
            "_view_module": "@jupyter-widgets/controls",
            "_view_module_version": "1.5.0",
            "_view_name": "ProgressView",
            "bar_style": "success",
            "description": "",
            "description_tooltip": null,
            "layout": "IPY_MODEL_62688211c6b1404893ed7488983139bd",
            "max": 570,
            "min": 0,
            "orientation": "horizontal",
            "style": "IPY_MODEL_ba89f633cb8142b58c6bfe26112b8547",
            "value": 570
          }
        },
        "a46aac1fa335434491d10a62517ee669": {
          "model_module": "@jupyter-widgets/controls",
          "model_module_version": "1.5.0",
          "model_name": "HTMLModel",
          "state": {
            "_dom_classes": [],
            "_model_module": "@jupyter-widgets/controls",
            "_model_module_version": "1.5.0",
            "_model_name": "HTMLModel",
            "_view_count": null,
            "_view_module": "@jupyter-widgets/controls",
            "_view_module_version": "1.5.0",
            "_view_name": "HTMLView",
            "description": "",
            "description_tooltip": null,
            "layout": "IPY_MODEL_84e59dc3eee642a7adbb282057bd2cbe",
            "placeholder": "​",
            "style": "IPY_MODEL_28110df525f64eb581cb8fa7838a747f",
            "value": " 466k/466k [00:00&lt;00:00, 2.18MB/s]"
          }
        },
        "a7c96fda058e49d7b071554c9713dd2a": {
          "model_module": "@jupyter-widgets/controls",
          "model_module_version": "1.5.0",
          "model_name": "DescriptionStyleModel",
          "state": {
            "_model_module": "@jupyter-widgets/controls",
            "_model_module_version": "1.5.0",
            "_model_name": "DescriptionStyleModel",
            "_view_count": null,
            "_view_module": "@jupyter-widgets/base",
            "_view_module_version": "1.2.0",
            "_view_name": "StyleView",
            "description_width": ""
          }
        },
        "a83ef4a4683a45aa8b636e38063d0c9d": {
          "model_module": "@jupyter-widgets/controls",
          "model_module_version": "1.5.0",
          "model_name": "DescriptionStyleModel",
          "state": {
            "_model_module": "@jupyter-widgets/controls",
            "_model_module_version": "1.5.0",
            "_model_name": "DescriptionStyleModel",
            "_view_count": null,
            "_view_module": "@jupyter-widgets/base",
            "_view_module_version": "1.2.0",
            "_view_name": "StyleView",
            "description_width": ""
          }
        },
        "acaf6bee7dc546abaf6d224c7c46710f": {
          "model_module": "@jupyter-widgets/controls",
          "model_module_version": "1.5.0",
          "model_name": "HBoxModel",
          "state": {
            "_dom_classes": [],
            "_model_module": "@jupyter-widgets/controls",
            "_model_module_version": "1.5.0",
            "_model_name": "HBoxModel",
            "_view_count": null,
            "_view_module": "@jupyter-widgets/controls",
            "_view_module_version": "1.5.0",
            "_view_name": "HBoxView",
            "box_style": "",
            "children": [
              "IPY_MODEL_7082a4454d1945dea69845c505edc773",
              "IPY_MODEL_4929a0fbacbc45bba9eb23d4127f83cb",
              "IPY_MODEL_bc6f74a7c4184c8b837fb4fe5aed700a"
            ],
            "layout": "IPY_MODEL_23fde0e7457e4070931dc3f5be6c1d3b"
          }
        },
        "b168ee3a149849b28aedc98b49dc9292": {
          "model_module": "@jupyter-widgets/controls",
          "model_module_version": "1.5.0",
          "model_name": "ProgressStyleModel",
          "state": {
            "_model_module": "@jupyter-widgets/controls",
            "_model_module_version": "1.5.0",
            "_model_name": "ProgressStyleModel",
            "_view_count": null,
            "_view_module": "@jupyter-widgets/base",
            "_view_module_version": "1.2.0",
            "_view_name": "StyleView",
            "bar_color": null,
            "description_width": ""
          }
        },
        "b531e4773efe445c989ebc68e29d8223": {
          "model_module": "@jupyter-widgets/base",
          "model_module_version": "1.2.0",
          "model_name": "LayoutModel",
          "state": {
            "_model_module": "@jupyter-widgets/base",
            "_model_module_version": "1.2.0",
            "_model_name": "LayoutModel",
            "_view_count": null,
            "_view_module": "@jupyter-widgets/base",
            "_view_module_version": "1.2.0",
            "_view_name": "LayoutView",
            "align_content": null,
            "align_items": null,
            "align_self": null,
            "border": null,
            "bottom": null,
            "display": null,
            "flex": null,
            "flex_flow": null,
            "grid_area": null,
            "grid_auto_columns": null,
            "grid_auto_flow": null,
            "grid_auto_rows": null,
            "grid_column": null,
            "grid_gap": null,
            "grid_row": null,
            "grid_template_areas": null,
            "grid_template_columns": null,
            "grid_template_rows": null,
            "height": null,
            "justify_content": null,
            "justify_items": null,
            "left": null,
            "margin": null,
            "max_height": null,
            "max_width": null,
            "min_height": null,
            "min_width": null,
            "object_fit": null,
            "object_position": null,
            "order": null,
            "overflow": null,
            "overflow_x": null,
            "overflow_y": null,
            "padding": null,
            "right": null,
            "top": null,
            "visibility": null,
            "width": null
          }
        },
        "b8d011576ae14652b281303c777aa853": {
          "model_module": "@jupyter-widgets/controls",
          "model_module_version": "1.5.0",
          "model_name": "FloatProgressModel",
          "state": {
            "_dom_classes": [],
            "_model_module": "@jupyter-widgets/controls",
            "_model_module_version": "1.5.0",
            "_model_name": "FloatProgressModel",
            "_view_count": null,
            "_view_module": "@jupyter-widgets/controls",
            "_view_module_version": "1.5.0",
            "_view_name": "ProgressView",
            "bar_style": "success",
            "description": "",
            "description_tooltip": null,
            "layout": "IPY_MODEL_0ec4e74eb0d04c0c852313a34c3e905c",
            "max": 466062,
            "min": 0,
            "orientation": "horizontal",
            "style": "IPY_MODEL_f7fba0e6b34d47248c08eed012418657",
            "value": 466062
          }
        },
        "ba89f633cb8142b58c6bfe26112b8547": {
          "model_module": "@jupyter-widgets/controls",
          "model_module_version": "1.5.0",
          "model_name": "ProgressStyleModel",
          "state": {
            "_model_module": "@jupyter-widgets/controls",
            "_model_module_version": "1.5.0",
            "_model_name": "ProgressStyleModel",
            "_view_count": null,
            "_view_module": "@jupyter-widgets/base",
            "_view_module_version": "1.2.0",
            "_view_name": "StyleView",
            "bar_color": null,
            "description_width": ""
          }
        },
        "bb19c6e25eb34f1d9ce25b689e1e1102": {
          "model_module": "@jupyter-widgets/base",
          "model_module_version": "1.2.0",
          "model_name": "LayoutModel",
          "state": {
            "_model_module": "@jupyter-widgets/base",
            "_model_module_version": "1.2.0",
            "_model_name": "LayoutModel",
            "_view_count": null,
            "_view_module": "@jupyter-widgets/base",
            "_view_module_version": "1.2.0",
            "_view_name": "LayoutView",
            "align_content": null,
            "align_items": null,
            "align_self": null,
            "border": null,
            "bottom": null,
            "display": null,
            "flex": null,
            "flex_flow": null,
            "grid_area": null,
            "grid_auto_columns": null,
            "grid_auto_flow": null,
            "grid_auto_rows": null,
            "grid_column": null,
            "grid_gap": null,
            "grid_row": null,
            "grid_template_areas": null,
            "grid_template_columns": null,
            "grid_template_rows": null,
            "height": null,
            "justify_content": null,
            "justify_items": null,
            "left": null,
            "margin": null,
            "max_height": null,
            "max_width": null,
            "min_height": null,
            "min_width": null,
            "object_fit": null,
            "object_position": null,
            "order": null,
            "overflow": null,
            "overflow_x": null,
            "overflow_y": null,
            "padding": null,
            "right": null,
            "top": null,
            "visibility": null,
            "width": null
          }
        },
        "bc6f74a7c4184c8b837fb4fe5aed700a": {
          "model_module": "@jupyter-widgets/controls",
          "model_module_version": "1.5.0",
          "model_name": "HTMLModel",
          "state": {
            "_dom_classes": [],
            "_model_module": "@jupyter-widgets/controls",
            "_model_module_version": "1.5.0",
            "_model_name": "HTMLModel",
            "_view_count": null,
            "_view_module": "@jupyter-widgets/controls",
            "_view_module_version": "1.5.0",
            "_view_name": "HTMLView",
            "description": "",
            "description_tooltip": null,
            "layout": "IPY_MODEL_9809209dd63f4c8eb03d7844afcce483",
            "placeholder": "​",
            "style": "IPY_MODEL_c3f25b9e32c447a9b7743d38a906e495",
            "value": " 48.0/48.0 [00:00&lt;00:00, 2.46kB/s]"
          }
        },
        "bf4cdc07d0c240c0b92bd4e56ea9f92f": {
          "model_module": "@jupyter-widgets/base",
          "model_module_version": "1.2.0",
          "model_name": "LayoutModel",
          "state": {
            "_model_module": "@jupyter-widgets/base",
            "_model_module_version": "1.2.0",
            "_model_name": "LayoutModel",
            "_view_count": null,
            "_view_module": "@jupyter-widgets/base",
            "_view_module_version": "1.2.0",
            "_view_name": "LayoutView",
            "align_content": null,
            "align_items": null,
            "align_self": null,
            "border": null,
            "bottom": null,
            "display": null,
            "flex": null,
            "flex_flow": null,
            "grid_area": null,
            "grid_auto_columns": null,
            "grid_auto_flow": null,
            "grid_auto_rows": null,
            "grid_column": null,
            "grid_gap": null,
            "grid_row": null,
            "grid_template_areas": null,
            "grid_template_columns": null,
            "grid_template_rows": null,
            "height": null,
            "justify_content": null,
            "justify_items": null,
            "left": null,
            "margin": null,
            "max_height": null,
            "max_width": null,
            "min_height": null,
            "min_width": null,
            "object_fit": null,
            "object_position": null,
            "order": null,
            "overflow": null,
            "overflow_x": null,
            "overflow_y": null,
            "padding": null,
            "right": null,
            "top": null,
            "visibility": null,
            "width": null
          }
        },
        "c1171f1f5ab84af69b71b19dacae33b5": {
          "model_module": "@jupyter-widgets/base",
          "model_module_version": "1.2.0",
          "model_name": "LayoutModel",
          "state": {
            "_model_module": "@jupyter-widgets/base",
            "_model_module_version": "1.2.0",
            "_model_name": "LayoutModel",
            "_view_count": null,
            "_view_module": "@jupyter-widgets/base",
            "_view_module_version": "1.2.0",
            "_view_name": "LayoutView",
            "align_content": null,
            "align_items": null,
            "align_self": null,
            "border": null,
            "bottom": null,
            "display": null,
            "flex": null,
            "flex_flow": null,
            "grid_area": null,
            "grid_auto_columns": null,
            "grid_auto_flow": null,
            "grid_auto_rows": null,
            "grid_column": null,
            "grid_gap": null,
            "grid_row": null,
            "grid_template_areas": null,
            "grid_template_columns": null,
            "grid_template_rows": null,
            "height": null,
            "justify_content": null,
            "justify_items": null,
            "left": null,
            "margin": null,
            "max_height": null,
            "max_width": null,
            "min_height": null,
            "min_width": null,
            "object_fit": null,
            "object_position": null,
            "order": null,
            "overflow": null,
            "overflow_x": null,
            "overflow_y": null,
            "padding": null,
            "right": null,
            "top": null,
            "visibility": null,
            "width": null
          }
        },
        "c31ba72046db479386f121e64fd678b8": {
          "model_module": "@jupyter-widgets/controls",
          "model_module_version": "1.5.0",
          "model_name": "DescriptionStyleModel",
          "state": {
            "_model_module": "@jupyter-widgets/controls",
            "_model_module_version": "1.5.0",
            "_model_name": "DescriptionStyleModel",
            "_view_count": null,
            "_view_module": "@jupyter-widgets/base",
            "_view_module_version": "1.2.0",
            "_view_name": "StyleView",
            "description_width": ""
          }
        },
        "c3f25b9e32c447a9b7743d38a906e495": {
          "model_module": "@jupyter-widgets/controls",
          "model_module_version": "1.5.0",
          "model_name": "DescriptionStyleModel",
          "state": {
            "_model_module": "@jupyter-widgets/controls",
            "_model_module_version": "1.5.0",
            "_model_name": "DescriptionStyleModel",
            "_view_count": null,
            "_view_module": "@jupyter-widgets/base",
            "_view_module_version": "1.2.0",
            "_view_name": "StyleView",
            "description_width": ""
          }
        },
        "c83f944e569149e6bf3b88c5c81720a2": {
          "model_module": "@jupyter-widgets/controls",
          "model_module_version": "1.5.0",
          "model_name": "ProgressStyleModel",
          "state": {
            "_model_module": "@jupyter-widgets/controls",
            "_model_module_version": "1.5.0",
            "_model_name": "ProgressStyleModel",
            "_view_count": null,
            "_view_module": "@jupyter-widgets/base",
            "_view_module_version": "1.2.0",
            "_view_name": "StyleView",
            "bar_color": null,
            "description_width": ""
          }
        },
        "cdf0acb750aa4477b7134f8a4a1eb1dc": {
          "model_module": "@jupyter-widgets/controls",
          "model_module_version": "1.5.0",
          "model_name": "HBoxModel",
          "state": {
            "_dom_classes": [],
            "_model_module": "@jupyter-widgets/controls",
            "_model_module_version": "1.5.0",
            "_model_name": "HBoxModel",
            "_view_count": null,
            "_view_module": "@jupyter-widgets/controls",
            "_view_module_version": "1.5.0",
            "_view_name": "HBoxView",
            "box_style": "",
            "children": [
              "IPY_MODEL_6c19142b3ae94f49b03a633e6c56a9d4",
              "IPY_MODEL_7a4921296f944be5a7a7cbd2bf6a0dc3",
              "IPY_MODEL_8a8e5bdabe9b4492b5898b8140e8ce95"
            ],
            "layout": "IPY_MODEL_6b8df5df1e6649ddbefecdc58478c812"
          }
        },
        "d78d312b88b54b2bb43a7f89b857a148": {
          "model_module": "@jupyter-widgets/base",
          "model_module_version": "1.2.0",
          "model_name": "LayoutModel",
          "state": {
            "_model_module": "@jupyter-widgets/base",
            "_model_module_version": "1.2.0",
            "_model_name": "LayoutModel",
            "_view_count": null,
            "_view_module": "@jupyter-widgets/base",
            "_view_module_version": "1.2.0",
            "_view_name": "LayoutView",
            "align_content": null,
            "align_items": null,
            "align_self": null,
            "border": null,
            "bottom": null,
            "display": null,
            "flex": null,
            "flex_flow": null,
            "grid_area": null,
            "grid_auto_columns": null,
            "grid_auto_flow": null,
            "grid_auto_rows": null,
            "grid_column": null,
            "grid_gap": null,
            "grid_row": null,
            "grid_template_areas": null,
            "grid_template_columns": null,
            "grid_template_rows": null,
            "height": null,
            "justify_content": null,
            "justify_items": null,
            "left": null,
            "margin": null,
            "max_height": null,
            "max_width": null,
            "min_height": null,
            "min_width": null,
            "object_fit": null,
            "object_position": null,
            "order": null,
            "overflow": null,
            "overflow_x": null,
            "overflow_y": null,
            "padding": null,
            "right": null,
            "top": null,
            "visibility": null,
            "width": null
          }
        },
        "d8a5731a948f44e3bd5fed129df812d5": {
          "model_module": "@jupyter-widgets/controls",
          "model_module_version": "1.5.0",
          "model_name": "DescriptionStyleModel",
          "state": {
            "_model_module": "@jupyter-widgets/controls",
            "_model_module_version": "1.5.0",
            "_model_name": "DescriptionStyleModel",
            "_view_count": null,
            "_view_module": "@jupyter-widgets/base",
            "_view_module_version": "1.2.0",
            "_view_name": "StyleView",
            "description_width": ""
          }
        },
        "f7fba0e6b34d47248c08eed012418657": {
          "model_module": "@jupyter-widgets/controls",
          "model_module_version": "1.5.0",
          "model_name": "ProgressStyleModel",
          "state": {
            "_model_module": "@jupyter-widgets/controls",
            "_model_module_version": "1.5.0",
            "_model_name": "ProgressStyleModel",
            "_view_count": null,
            "_view_module": "@jupyter-widgets/base",
            "_view_module_version": "1.2.0",
            "_view_name": "StyleView",
            "bar_color": null,
            "description_width": ""
          }
        }
      }
    }
  },
  "nbformat": 4,
  "nbformat_minor": 0
}